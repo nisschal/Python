{
 "cells": [
  {
   "cell_type": "code",
   "execution_count": 2,
   "id": "54a584fe",
   "metadata": {},
   "outputs": [
    {
     "name": "stdout",
     "output_type": "stream",
     "text": [
      "10\n"
     ]
    }
   ],
   "source": [
    "a = 10\n",
    "print(a)"
   ]
  },
  {
   "cell_type": "code",
   "execution_count": 4,
   "id": "9f0a4dbb",
   "metadata": {},
   "outputs": [
    {
     "name": "stdout",
     "output_type": "stream",
     "text": [
      "5\n",
      "5.5\n",
      "5 5.5 Hello True\n"
     ]
    }
   ],
   "source": [
    "a = 5                      #int \n",
    "b = 5.5                    #float \n",
    "c = \"Hello\"                #string #str\n",
    "d = True                   #boolean #bool \n",
    "\n",
    "print(a)\n",
    "print(b)\n",
    "print(a,b,c,d)"
   ]
  },
  {
   "cell_type": "code",
   "execution_count": 5,
   "id": "963ce63d",
   "metadata": {},
   "outputs": [],
   "source": [
    "#1a = 10 Variables start with an alphabet\n",
    "a_ = 10 #only underscore is accepted in special characters when defining variables\n",
    "hello = 10\n",
    "hello_world = 10\n",
    "#No spacing when you define variables"
   ]
  },
  {
   "cell_type": "code",
   "execution_count": 6,
   "id": "964392a0",
   "metadata": {},
   "outputs": [
    {
     "name": "stdout",
     "output_type": "stream",
     "text": [
      "<class 'int'>\n",
      "<class 'float'>\n",
      "<class 'str'>\n",
      "<class 'bool'>\n"
     ]
    }
   ],
   "source": [
    "#type() #Function to check the data type of variables\n",
    "print (type(a))\n",
    "print (type(b))\n",
    "print (type(c))\n",
    "print (type(d))\n"
   ]
  },
  {
   "cell_type": "code",
   "execution_count": 7,
   "id": "41cd3f44",
   "metadata": {},
   "outputs": [],
   "source": [
    "a = 'Hello World'  #Ways to define String\n",
    "b = \"Hellow World\"\n",
    "c = '''Hellow World'''"
   ]
  },
  {
   "cell_type": "code",
   "execution_count": 10,
   "id": "3fddf627",
   "metadata": {},
   "outputs": [
    {
     "name": "stdout",
     "output_type": "stream",
     "text": [
      "12\n",
      "<class 'str'>\n",
      "ABC#$ '\n",
      "<class 'str'>\n",
      "AHGS_34 \"\n"
     ]
    },
    {
     "data": {
      "text/plain": [
       "str"
      ]
     },
     "execution_count": 10,
     "metadata": {},
     "output_type": "execute_result"
    }
   ],
   "source": [
    "a = '12'\n",
    "print(a)\n",
    "print(type(a))\n",
    "b = \"ABC#$ '\"\n",
    "print(b)\n",
    "print(type(b))\n",
    "c = '''AHGS_34 \"'''\n",
    "print(c)\n",
    "type(c)"
   ]
  },
  {
   "cell_type": "code",
   "execution_count": 11,
   "id": "8533fce7",
   "metadata": {},
   "outputs": [],
   "source": [
    "#Operators\n",
    "# + - * / ** // %"
   ]
  },
  {
   "cell_type": "code",
   "execution_count": 14,
   "id": "dfd30b1d",
   "metadata": {},
   "outputs": [
    {
     "name": "stdout",
     "output_type": "stream",
     "text": [
      "Addition = 30\n",
      "30\n"
     ]
    }
   ],
   "source": [
    "a = 10\n",
    "b = 20\n",
    "c = a + b\n",
    "print('Addition =',c)\n",
    "print(c)"
   ]
  },
  {
   "cell_type": "code",
   "execution_count": 15,
   "id": "ca0e8d8a",
   "metadata": {},
   "outputs": [
    {
     "name": "stdout",
     "output_type": "stream",
     "text": [
      "1000\n"
     ]
    }
   ],
   "source": [
    "a = 10\n",
    "b = 3\n",
    "c = a ** b # Exponentiation - A power B\n",
    "print(c)"
   ]
  },
  {
   "cell_type": "code",
   "execution_count": 16,
   "id": "07198fc5",
   "metadata": {},
   "outputs": [
    {
     "name": "stdout",
     "output_type": "stream",
     "text": [
      "3.3333333333333335\n",
      "3\n"
     ]
    }
   ],
   "source": [
    "a = 10\n",
    "b = 3\n",
    "c = a / b # Division\n",
    "d = a // b #Floor Division - Only takes whole number\n",
    "print(c)\n",
    "print(d)"
   ]
  },
  {
   "cell_type": "code",
   "execution_count": 17,
   "id": "7c461307",
   "metadata": {},
   "outputs": [
    {
     "name": "stdout",
     "output_type": "stream",
     "text": [
      "1\n"
     ]
    }
   ],
   "source": [
    "a = 10\n",
    "b = 3\n",
    "c = a % b #Modulus - Remainder\n",
    "print(c)"
   ]
  },
  {
   "cell_type": "code",
   "execution_count": 18,
   "id": "1234767a",
   "metadata": {},
   "outputs": [
    {
     "data": {
      "text/plain": [
       "'C:\\\\Users\\\\USER\\\\Python_Class'"
      ]
     },
     "execution_count": 18,
     "metadata": {},
     "output_type": "execute_result"
    }
   ],
   "source": [
    "pwd # Path for your file saved"
   ]
  },
  {
   "cell_type": "code",
   "execution_count": 2,
   "id": "c85bdb35",
   "metadata": {},
   "outputs": [],
   "source": [
    "#float\n",
    "#+ - * / ** // %"
   ]
  },
  {
   "cell_type": "code",
   "execution_count": 4,
   "id": "d7a5ad32",
   "metadata": {},
   "outputs": [
    {
     "name": "stdout",
     "output_type": "stream",
     "text": [
      "Hello World\n"
     ]
    }
   ],
   "source": [
    "a =\"Hello \"\n",
    "b = \"World\"\n",
    "c = a + b #String Concatination\n",
    "print(c)\n"
   ]
  },
  {
   "cell_type": "code",
   "execution_count": 7,
   "id": "5b0a75ff",
   "metadata": {},
   "outputs": [
    {
     "name": "stdout",
     "output_type": "stream",
     "text": [
      "Hello WorldHello World\n",
      "Hello World\n",
      "Hello World\n",
      "\n"
     ]
    }
   ],
   "source": [
    "a = \"Hello World\"\n",
    "b = \"Hello World\\n\" #\\n - Line Break\n",
    "print(a*2)          \n",
    "print(b*2)"
   ]
  },
  {
   "cell_type": "code",
   "execution_count": 9,
   "id": "5d38c780",
   "metadata": {},
   "outputs": [
    {
     "data": {
      "text/plain": [
       "'Hello World I am Dan'"
      ]
     },
     "execution_count": 9,
     "metadata": {},
     "output_type": "execute_result"
    }
   ],
   "source": [
    "name = \"Dan\"\n",
    "info = \"Hello World I am \" + name\n",
    "info"
   ]
  },
  {
   "cell_type": "code",
   "execution_count": 11,
   "id": "85a2fc11",
   "metadata": {},
   "outputs": [
    {
     "data": {
      "text/plain": [
       "1"
      ]
     },
     "execution_count": 11,
     "metadata": {},
     "output_type": "execute_result"
    }
   ],
   "source": [
    "#bool\n",
    "\n",
    "a = True\n",
    "b = False\n",
    "c = a + b\n",
    "c"
   ]
  },
  {
   "cell_type": "code",
   "execution_count": 12,
   "id": "8a9d7746",
   "metadata": {},
   "outputs": [
    {
     "data": {
      "text/plain": [
       "0"
      ]
     },
     "execution_count": 12,
     "metadata": {},
     "output_type": "execute_result"
    }
   ],
   "source": [
    "a = True\n",
    "b = False\n",
    "c = a * b\n",
    "c"
   ]
  },
  {
   "cell_type": "code",
   "execution_count": 18,
   "id": "ee5cd17c",
   "metadata": {},
   "outputs": [
    {
     "data": {
      "text/plain": [
       "complex"
      ]
     },
     "execution_count": 18,
     "metadata": {},
     "output_type": "execute_result"
    }
   ],
   "source": [
    "#Complex Number (+ - * /) j = (-1)**(1/2)\n",
    "a = 2 + 3j\n",
    "type(a)\n"
   ]
  },
  {
   "cell_type": "code",
   "execution_count": 22,
   "id": "31dddf74",
   "metadata": {},
   "outputs": [
    {
     "data": {
      "text/plain": [
       "'1020'"
      ]
     },
     "execution_count": 22,
     "metadata": {},
     "output_type": "execute_result"
    }
   ],
   "source": [
    "a = \"10\"\n",
    "b = \"20\"\n",
    "c = a + b\n",
    "c"
   ]
  },
  {
   "cell_type": "markdown",
   "id": "fe40be11",
   "metadata": {},
   "source": [
    "Type Casting"
   ]
  },
  {
   "cell_type": "code",
   "execution_count": 23,
   "id": "9d26a3c3",
   "metadata": {},
   "outputs": [],
   "source": [
    "# int() float() bool() str()"
   ]
  },
  {
   "cell_type": "code",
   "execution_count": 26,
   "id": "49b11358",
   "metadata": {},
   "outputs": [
    {
     "data": {
      "text/plain": [
       "10"
      ]
     },
     "execution_count": 26,
     "metadata": {},
     "output_type": "execute_result"
    }
   ],
   "source": [
    "#string to integer\n",
    "a = \"10\"\n",
    "b =int(a)\n",
    "b"
   ]
  },
  {
   "cell_type": "code",
   "execution_count": 27,
   "id": "1d9a4ecf",
   "metadata": {},
   "outputs": [
    {
     "data": {
      "text/plain": [
       "10.5"
      ]
     },
     "execution_count": 27,
     "metadata": {},
     "output_type": "execute_result"
    }
   ],
   "source": [
    "#str to float\n",
    "a = \"10.5\"\n",
    "b = float(a)\n",
    "b"
   ]
  },
  {
   "cell_type": "code",
   "execution_count": 28,
   "id": "e383d5cf",
   "metadata": {},
   "outputs": [
    {
     "data": {
      "text/plain": [
       "'10'"
      ]
     },
     "execution_count": 28,
     "metadata": {},
     "output_type": "execute_result"
    }
   ],
   "source": [
    "#int to str\n",
    "a = 10\n",
    "b = str(a)\n",
    "b"
   ]
  },
  {
   "cell_type": "code",
   "execution_count": 29,
   "id": "632a7278",
   "metadata": {},
   "outputs": [
    {
     "data": {
      "text/plain": [
       "'20.5'"
      ]
     },
     "execution_count": 29,
     "metadata": {},
     "output_type": "execute_result"
    }
   ],
   "source": [
    "#float to str\n",
    "a = 20.5\n",
    "b = str(a)\n",
    "b"
   ]
  },
  {
   "cell_type": "code",
   "execution_count": 30,
   "id": "15a7e038",
   "metadata": {},
   "outputs": [
    {
     "data": {
      "text/plain": [
       "True"
      ]
     },
     "execution_count": 30,
     "metadata": {},
     "output_type": "execute_result"
    }
   ],
   "source": [
    "a = 1  \n",
    "bool(a)"
   ]
  },
  {
   "cell_type": "code",
   "execution_count": 31,
   "id": "8027a354",
   "metadata": {},
   "outputs": [
    {
     "data": {
      "text/plain": [
       "False"
      ]
     },
     "execution_count": 31,
     "metadata": {},
     "output_type": "execute_result"
    }
   ],
   "source": [
    "b = 0 #Only the value 0 shows False when converted to Boolean\n",
    "bool(b)"
   ]
  },
  {
   "cell_type": "code",
   "execution_count": 33,
   "id": "26827296",
   "metadata": {},
   "outputs": [
    {
     "data": {
      "text/plain": [
       "True"
      ]
     },
     "execution_count": 33,
     "metadata": {},
     "output_type": "execute_result"
    }
   ],
   "source": [
    "a = \"Hello\" #askkey concept\n",
    "b = \"\"\n",
    "bool(a)\n"
   ]
  },
  {
   "cell_type": "markdown",
   "id": "02e8de09",
   "metadata": {},
   "source": [
    "Basic IO Operation"
   ]
  },
  {
   "cell_type": "code",
   "execution_count": 35,
   "id": "421fdcd0",
   "metadata": {},
   "outputs": [
    {
     "name": "stdout",
     "output_type": "stream",
     "text": [
      "Hi\n",
      "Hi\n"
     ]
    }
   ],
   "source": [
    "a = input()\n",
    "print(a)"
   ]
  },
  {
   "cell_type": "code",
   "execution_count": 37,
   "id": "17a4760b",
   "metadata": {},
   "outputs": [
    {
     "name": "stdout",
     "output_type": "stream",
     "text": [
      "Enter a = 13.2\n",
      "13.2\n"
     ]
    }
   ],
   "source": [
    "a = input(\"Enter a = \") #input is by default defined as string\n",
    "print(a)"
   ]
  },
  {
   "cell_type": "code",
   "execution_count": 38,
   "id": "d70e3efd",
   "metadata": {},
   "outputs": [
    {
     "name": "stdout",
     "output_type": "stream",
     "text": [
      "Enter the value 20\n",
      "20\n"
     ]
    }
   ],
   "source": [
    "a = int(input(\"Enter the value \")) #Type Casting int\n",
    "print(a)"
   ]
  },
  {
   "cell_type": "code",
   "execution_count": 39,
   "id": "d0e65593",
   "metadata": {},
   "outputs": [
    {
     "name": "stdout",
     "output_type": "stream",
     "text": [
      "Enter value10.22\n",
      "10.22\n"
     ]
    }
   ],
   "source": [
    "a = float(input(\"Enter value\"))\n",
    "print(a)"
   ]
  },
  {
   "cell_type": "code",
   "execution_count": 2,
   "id": "f4b49385",
   "metadata": {},
   "outputs": [
    {
     "name": "stdout",
     "output_type": "stream",
     "text": [
      "Enter name Dan\n",
      "Enter age 10\n",
      "Enter address Kathmandu\n",
      "Hello I am Dan I am from Kathmandu I am 10\n"
     ]
    }
   ],
   "source": [
    "name = input(\"Enter name \")\n",
    "age = int(input(\"Enter age \"))\n",
    "address = input(\"Enter address \")\n",
    "info = \"Hello I am \" + name + \" I am from \" + address + \" I am \" + str(age)\n",
    "print(info)\n"
   ]
  },
  {
   "cell_type": "code",
   "execution_count": 3,
   "id": "048b250a",
   "metadata": {},
   "outputs": [
    {
     "name": "stdout",
     "output_type": "stream",
     "text": [
      "Enter p = 1000\n",
      "Enter t = 2.5\n",
      "Enter r = 10\n",
      "The value of i =  250.0\n"
     ]
    }
   ],
   "source": [
    "p = int(input(\"Enter p = \"))\n",
    "t = float(input(\"Enter t = \"))\n",
    "r = float(input(\"Enter r = \"))\n",
    "i = p*t*r/100\n",
    "print(\"The value of i = \", i) #Simple Interest\n"
   ]
  },
  {
   "cell_type": "markdown",
   "id": "55b88e6a",
   "metadata": {},
   "source": [
    "IF Condition"
   ]
  },
  {
   "cell_type": "code",
   "execution_count": 1,
   "id": "eaa93be7",
   "metadata": {},
   "outputs": [],
   "source": [
    "# if  <codition>:\n",
    "#     <operation>\n",
    "\n",
    "# elif <condition>:\n",
    "#     <operation>\n",
    "# ...\n",
    "\n",
    "# else:\n",
    "#     <operation>"
   ]
  },
  {
   "cell_type": "code",
   "execution_count": 3,
   "id": "4427093e",
   "metadata": {},
   "outputs": [],
   "source": [
    "# < > <= >= == != Comparision Operators"
   ]
  },
  {
   "cell_type": "code",
   "execution_count": 5,
   "id": "cf7ccc16",
   "metadata": {},
   "outputs": [
    {
     "name": "stdout",
     "output_type": "stream",
     "text": [
      "False\n",
      "True\n"
     ]
    }
   ],
   "source": [
    "a =  10\n",
    "print(a>20)\n",
    "print(a<20)"
   ]
  },
  {
   "cell_type": "code",
   "execution_count": 7,
   "id": "442df914",
   "metadata": {},
   "outputs": [
    {
     "name": "stdout",
     "output_type": "stream",
     "text": [
      "Enter the value of a = -3\n",
      "-3  is negative\n"
     ]
    }
   ],
   "source": [
    "a = int(input(\"Enter the value of a = \"))\n",
    "if a>=0:\n",
    "    print(a, \" is positive\")\n",
    "else:\n",
    "    print(a,\" is negative\")"
   ]
  },
  {
   "cell_type": "code",
   "execution_count": 9,
   "id": "12d32812",
   "metadata": {},
   "outputs": [
    {
     "name": "stdout",
     "output_type": "stream",
     "text": [
      "Enter the value of a = 3\n",
      "3  is an odd number\n"
     ]
    }
   ],
   "source": [
    "a = int(input(\"Enter the value of a = \"))\n",
    "if a%2==0:\n",
    "    print(a,\" is an even number\")\n",
    "    \n",
    "else:\n",
    "    print(a, \" is an odd number\")\n",
    "    \n",
    "    "
   ]
  },
  {
   "cell_type": "code",
   "execution_count": 11,
   "id": "76af313f",
   "metadata": {},
   "outputs": [
    {
     "name": "stdout",
     "output_type": "stream",
     "text": [
      "Enter a = 10\n",
      "Enter b = 20\n",
      "20  is greater than  10\n"
     ]
    }
   ],
   "source": [
    "a = int(input(\"Enter a = \"))\n",
    "b = int(input(\"Enter b = \"))\n",
    "if a>b:\n",
    "    print(a, \" is greater than \", b)\n",
    "elif b>a:\n",
    "    print(b, \" is greater than \", a)\n",
    "else:\n",
    "    print(\"Both are equal\")"
   ]
  },
  {
   "cell_type": "code",
   "execution_count": 15,
   "id": "e8184f18",
   "metadata": {},
   "outputs": [
    {
     "name": "stdout",
     "output_type": "stream",
     "text": [
      "Enter a = 10\n",
      "Enter b = 20\n",
      "Enter + or - or * or / = +\n",
      "30\n"
     ]
    }
   ],
   "source": [
    "a = int(input(\"Enter a = \"))\n",
    "b = int(input(\"Enter b = \"))\n",
    "o = input(\"Enter + or - or * or / = \")\n",
    "if o==\"+\":\n",
    "    print(a+b)\n",
    "elif o==\"-\":\n",
    "    print(a-b)\n",
    "elif o==\"*\":\n",
    "    print(a*b)\n",
    "elif o==\"/\":\n",
    "    print(a/b)\n",
    "else:\n",
    "    print(\"Invalid Input\")\n",
    "\n",
    "    "
   ]
  },
  {
   "cell_type": "code",
   "execution_count": 18,
   "id": "f40916e0",
   "metadata": {},
   "outputs": [
    {
     "name": "stdout",
     "output_type": "stream",
     "text": [
      "Enter the marks of Physics = 80\n",
      "Enter the marks of Chemistry = 80\n",
      "Enter the marks of Maths = 80\n",
      "Enter the marks of English = 80\n",
      "Enter the marks of Nepali = 80\n",
      "Percentage is  80.0\n",
      "A\n"
     ]
    }
   ],
   "source": [
    "a = int(input(\"Enter the marks of Physics = \"))\n",
    "b = int(input(\"Enter the marks of Chemistry = \"))\n",
    "c = int(input(\"Enter the marks of Maths = \"))\n",
    "d = int(input(\"Enter the marks of English = \"))\n",
    "e = int(input(\"Enter the marks of Nepali = \"))\n",
    "g = ((a+b+c+d+e)/500)*100  #g=(a+b+c+d+e)/5\n",
    "print(\"Percentage is \", g)\n",
    "if g>=80:\n",
    "    print(\"A\")\n",
    "elif g>=60:\n",
    "    print(\"B\")\n",
    "elif g>=45:\n",
    "    print(\"C\")\n",
    "else:\n",
    "    print(\"F\")\n",
    "    \n",
    "    "
   ]
  },
  {
   "cell_type": "code",
   "execution_count": 20,
   "id": "0a46ff42",
   "metadata": {},
   "outputs": [],
   "source": [
    "# Logical Operators(AND &,OR |,NOT)"
   ]
  },
  {
   "cell_type": "code",
   "execution_count": 24,
   "id": "809bdfa7",
   "metadata": {},
   "outputs": [
    {
     "name": "stdout",
     "output_type": "stream",
     "text": [
      "Enter the marks of Physics = 32\n",
      "Enter the marks of Chemistry = 32\n",
      "Enter the marks of Maths = 32\n",
      "Enter the marks of English = 32\n",
      "Enter the marks of Nepali = 32\n",
      "Total =  160\n",
      "Percentage =  32.0\n",
      "Grade =  D\n"
     ]
    }
   ],
   "source": [
    "a = int(input(\"Enter the marks of Physics = \"))\n",
    "b = int(input(\"Enter the marks of Chemistry = \"))\n",
    "c = int(input(\"Enter the marks of Maths = \"))\n",
    "d = int(input(\"Enter the marks of English = \"))\n",
    "e = int(input(\"Enter the marks of Nepali = \"))\n",
    "g = ((a+b+c+d+e)/500)*100  #g=(a+b+c+d+e)/5\n",
    "if a>=32 and b>=32 and c>=32 and d>=32 and e>=32:\n",
    "    t = a+b+c+d+e\n",
    "    p=t/5\n",
    "\n",
    "    if g>=80:\n",
    "        grade = \"A\"\n",
    "        \n",
    "    elif g>=60:\n",
    "        grade = \"B\"\n",
    "    elif g>=45:\n",
    "        grade = \"C\"\n",
    "    elif g>=32:\n",
    "        grade = \"D\"\n",
    "    else:\n",
    "        grade = \"F\"\n",
    "    print(\"Total = \",t)\n",
    "    print(\"Percentage = \",p)\n",
    "    print(\"Grade = \",grade)\n",
    "else:\n",
    "    print(\"Fail\")"
   ]
  },
  {
   "cell_type": "code",
   "execution_count": 26,
   "id": "97a5188c",
   "metadata": {},
   "outputs": [
    {
     "name": "stdout",
     "output_type": "stream",
     "text": [
      "Enter a = 10\n",
      "Enter b = 0\n",
      "Enter + or - or * or / = /\n",
      "The value of b cannot be zero\n"
     ]
    }
   ],
   "source": [
    "a = int(input(\"Enter a = \"))\n",
    "b = int(input(\"Enter b = \"))\n",
    "o = input(\"Enter + or - or * or / = \")\n",
    "if o==\"+\":\n",
    "    print(a+b)\n",
    "elif o==\"-\":\n",
    "    print(a-b)\n",
    "elif o==\"*\":\n",
    "    print(a*b)\n",
    "elif o==\"/\" and b!=0:\n",
    "    print(a/b)\n",
    "elif o==\"/\" and b==0:\n",
    "    print(\"The value of b cannot be zero\")\n",
    "else:\n",
    "    print(\"Invalid Input\")"
   ]
  },
  {
   "cell_type": "code",
   "execution_count": 27,
   "id": "bb79906f",
   "metadata": {},
   "outputs": [
    {
     "name": "stdout",
     "output_type": "stream",
     "text": [
      "Enter the marks of Physics = 50\n",
      "Enter the marks of Chemistry = 50\n",
      "Enter the marks of Maths = 50\n",
      "Enter the marks of English = 50\n",
      "Enter the marks of Nepali = 50\n",
      "Percentage is  50.0\n",
      "C\n"
     ]
    }
   ],
   "source": [
    "a = int(input(\"Enter the marks of Physics = \"))\n",
    "b = int(input(\"Enter the marks of Chemistry = \"))\n",
    "c = int(input(\"Enter the marks of Maths = \"))\n",
    "d = int(input(\"Enter the marks of English = \"))\n",
    "e = int(input(\"Enter the marks of Nepali = \"))\n",
    "g = ((a+b+c+d+e)/500)*100  #g=(a+b+c+d+e)/5\n",
    "print(\"Percentage is \", g)\n",
    "if g>80 or g==80:\n",
    "    print(\"A\")\n",
    "elif g>60 or g==60:\n",
    "    print(\"B\")\n",
    "elif g>45 or g==45:\n",
    "    print(\"C\")\n",
    "elif g>32 or g==32:\n",
    "    print(\"D\")\n",
    "else:\n",
    "    print(\"F\")"
   ]
  },
  {
   "cell_type": "markdown",
   "id": "2310ad74",
   "metadata": {},
   "source": [
    "LOOP"
   ]
  },
  {
   "cell_type": "code",
   "execution_count": 1,
   "id": "2b3054f6",
   "metadata": {},
   "outputs": [],
   "source": [
    "# Loop          #Recursion\n",
    "# For Loop\n",
    "# While Loop"
   ]
  },
  {
   "cell_type": "code",
   "execution_count": 2,
   "id": "a2b30d2f",
   "metadata": {},
   "outputs": [],
   "source": [
    "#for loop"
   ]
  },
  {
   "cell_type": "code",
   "execution_count": 5,
   "id": "d1fb47da",
   "metadata": {},
   "outputs": [],
   "source": [
    "# range(5) #0,1,2,3,4     #Only Integer is accepted\n",
    "# range(1,5) #1,2,3,4\n",
    "# range(1,10,2) # 1,3,5,7,9  #for(i=1;i<10;i=i+2)"
   ]
  },
  {
   "cell_type": "code",
   "execution_count": 7,
   "id": "1b1fa4bf",
   "metadata": {},
   "outputs": [
    {
     "name": "stdout",
     "output_type": "stream",
     "text": [
      "1 Hello\n",
      "2 Hello\n",
      "3 Hello\n",
      "4 Hello\n"
     ]
    }
   ],
   "source": [
    "for i in range(1,5):\n",
    "    print(i, \"Hello\")"
   ]
  },
  {
   "cell_type": "code",
   "execution_count": 8,
   "id": "0df567d0",
   "metadata": {},
   "outputs": [
    {
     "name": "stdout",
     "output_type": "stream",
     "text": [
      "1 Hello\n",
      "2 Hello\n",
      "3 Hello\n",
      "4 Hello\n"
     ]
    }
   ],
   "source": [
    "for i in range(1,5):\n",
    "    print(i,\"Hello\")"
   ]
  },
  {
   "cell_type": "code",
   "execution_count": 12,
   "id": "4bd960eb",
   "metadata": {},
   "outputs": [
    {
     "name": "stdout",
     "output_type": "stream",
     "text": [
      "1 Hello\n",
      "3 Hello\n",
      "5 Hello\n",
      "7 Hello\n",
      "9 Hello\n"
     ]
    }
   ],
   "source": [
    "for i in range(1,10,2):\n",
    "    print(i,\"Hello\")"
   ]
  },
  {
   "cell_type": "code",
   "execution_count": 11,
   "id": "f2503464",
   "metadata": {},
   "outputs": [
    {
     "name": "stdout",
     "output_type": "stream",
     "text": [
      "Enter any number = 2\n",
      "2\n",
      "4\n",
      "6\n",
      "8\n",
      "10\n",
      "12\n",
      "14\n",
      "16\n",
      "18\n",
      "20\n"
     ]
    }
   ],
   "source": [
    "a = int(input(\"Enter any number = \"))\n",
    "for i in range(1,11):\n",
    "    b = a * i\n",
    "    print(b)"
   ]
  },
  {
   "cell_type": "code",
   "execution_count": 13,
   "id": "8cabec29",
   "metadata": {},
   "outputs": [
    {
     "name": "stdout",
     "output_type": "stream",
     "text": [
      "5 Hello\n",
      "4 Hello\n",
      "3 Hello\n",
      "2 Hello\n",
      "1 Hello\n"
     ]
    }
   ],
   "source": [
    "for i in range(5,0,-1): #5,4,3,2,1\n",
    "    print(i,\"Hello\")"
   ]
  },
  {
   "cell_type": "code",
   "execution_count": 14,
   "id": "c646d213",
   "metadata": {},
   "outputs": [
    {
     "name": "stdout",
     "output_type": "stream",
     "text": [
      "5\n",
      "10\n",
      "15\n",
      "20\n",
      "25\n",
      "30\n",
      "35\n",
      "40\n",
      "45\n",
      "50\n"
     ]
    }
   ],
   "source": [
    "for i in range(1,11):\n",
    "    print(i*5)"
   ]
  },
  {
   "cell_type": "code",
   "execution_count": 16,
   "id": "091b187b",
   "metadata": {},
   "outputs": [
    {
     "name": "stdout",
     "output_type": "stream",
     "text": [
      "Enter n = 5\n",
      "5  * 1  = 5\n",
      "5  * 2  = 10\n",
      "5  * 3  = 15\n",
      "5  * 4  = 20\n",
      "5  * 5  = 25\n",
      "5  * 6  = 30\n",
      "5  * 7  = 35\n",
      "5  * 8  = 40\n",
      "5  * 9  = 45\n",
      "5  * 10  = 50\n"
     ]
    }
   ],
   "source": [
    "n = int(input(\"Enter n = \"))\n",
    "for i in range(1,11):\n",
    "#     print(i*n)\n",
    "    a = i * n\n",
    "    print(n, \" *\", i, \" =\", a )"
   ]
  },
  {
   "cell_type": "code",
   "execution_count": 18,
   "id": "6f0f540b",
   "metadata": {},
   "outputs": [
    {
     "name": "stdout",
     "output_type": "stream",
     "text": [
      "Enter x = 10\n",
      "10\n",
      "Enter x = 20\n",
      "20\n"
     ]
    }
   ],
   "source": [
    "for i in range(2):\n",
    "    x = int(input(\"Enter x = \"))\n",
    "    print(x)"
   ]
  },
  {
   "cell_type": "code",
   "execution_count": 22,
   "id": "0136a725",
   "metadata": {},
   "outputs": [
    {
     "name": "stdout",
     "output_type": "stream",
     "text": [
      "Enter x = 1\n",
      "Enter x = 1\n",
      "Enter x = 1\n",
      "Enter x = 1\n",
      "Enter x = 1\n",
      "5\n"
     ]
    }
   ],
   "source": [
    "s = 0\n",
    "for i in range(5):\n",
    "    x = int(input(\"Enter x = \"))\n",
    "    s = s + x\n",
    "print(s)"
   ]
  },
  {
   "cell_type": "code",
   "execution_count": 23,
   "id": "104f4461",
   "metadata": {},
   "outputs": [
    {
     "name": "stdout",
     "output_type": "stream",
     "text": [
      "Enter Name: Da\n",
      "Da\n",
      "Enter Name: sa\n",
      "sa\n",
      "Enter Name: sa\n",
      "sa\n",
      "Enter Name: sa\n",
      "sa\n",
      "Enter Name: ds\n",
      "ds\n"
     ]
    }
   ],
   "source": [
    "for i in range(5):\n",
    "    x = input(\"Enter Name: \")\n",
    "    print(x)"
   ]
  },
  {
   "cell_type": "code",
   "execution_count": 9,
   "id": "eff83188",
   "metadata": {},
   "outputs": [
    {
     "name": "stdout",
     "output_type": "stream",
     "text": [
      "Enter n = 3\n",
      "Enter name: Ram\n",
      "Ram\n",
      "\n",
      "Enter name: Shyam\n",
      "Ram\n",
      "Shyam\n",
      "\n",
      "Enter name: Hari\n",
      "Ram\n",
      "Shyam\n",
      "Hari\n",
      "\n"
     ]
    }
   ],
   "source": [
    "s = \"\"\n",
    "n = int(input(\"Enter n = \"))\n",
    "for i in range(n):\n",
    "    x = input(\"Enter name: \")\n",
    "    s = s + x + \"\\n\"\n",
    "    print(s)\n",
    "    "
   ]
  },
  {
   "cell_type": "code",
   "execution_count": 12,
   "id": "4904adcb",
   "metadata": {},
   "outputs": [
    {
     "name": "stdout",
     "output_type": "stream",
     "text": [
      "Enter n = 3\n",
      "Enter name: Ram\n",
      "Enter number: 1245\n",
      "Enter name: Shyam\n",
      "Enter number: 323\n",
      "Enter name: Hari\n",
      "Enter number: 125\n",
      "Ram 1245\n",
      "Shyam 323\n",
      "Hari 125\n",
      "\n"
     ]
    }
   ],
   "source": [
    "s = \"\"\n",
    "n = int(input(\"Enter n = \"))\n",
    "for i in range(n):\n",
    "    name = input(\"Enter name: \")\n",
    "    phone = input(\"Enter number: \")\n",
    "    s = s+ name + \" \" + phone + \"\\n\"\n",
    "print(s)"
   ]
  },
  {
   "cell_type": "code",
   "execution_count": 13,
   "id": "e00d3aca",
   "metadata": {},
   "outputs": [],
   "source": [
    "# WAP to find factorial 5! = 1*2*3*5\n",
    "# WAP to make different patterns triangle\n",
    "# WAP to create a billing system (Product,price,quantity,total,all_total)\n",
    "#WAP to add and multiply numbers from 1 to 100"
   ]
  },
  {
   "cell_type": "code",
   "execution_count": 9,
   "id": "0441ab3f",
   "metadata": {},
   "outputs": [
    {
     "name": "stdout",
     "output_type": "stream",
     "text": [
      "Enter number n = 5\n",
      "The factorial of 5 is 120\n"
     ]
    }
   ],
   "source": [
    "# WAP to find factorial 5! = 1*2*3*4*5\n",
    "s = 1\n",
    "n = int(input(\"Enter number n = \"))\n",
    "for i in range(1,n+1):\n",
    "    s = s * i\n",
    "    \n",
    "print(\"The factorial of\",n, \"is\",s)\n",
    "    "
   ]
  },
  {
   "cell_type": "code",
   "execution_count": 17,
   "id": "43010f91",
   "metadata": {},
   "outputs": [
    {
     "name": "stdout",
     "output_type": "stream",
     "text": [
      "Addition from 1 to 100 = 5050\n",
      "Multiplication from 1 to 100 = 93326215443944152681699238856266700490715968264381621468592963895217599993229915608941463976156518286253697920827223758251185210916864000000000000000000000000\n"
     ]
    }
   ],
   "source": [
    "#WAP to add and multiply numbers from 1 to 100\n",
    "a = 0\n",
    "b = 1\n",
    "for i in range(1,101):\n",
    "    a = a + i\n",
    "    b = b * i\n",
    "print(\"Addition from 1 to 100 =\", a)    \n",
    "print(\"Multiplication from 1 to 100 =\",b)"
   ]
  },
  {
   "cell_type": "code",
   "execution_count": 2,
   "id": "a5df5ad5",
   "metadata": {},
   "outputs": [
    {
     "name": "stdout",
     "output_type": "stream",
     "text": [
      "Enter number of rows for triangle: 5\n",
      "* \n",
      "\n",
      "* * \n",
      "\n",
      "* * * \n",
      "\n",
      "* * * * \n",
      "\n",
      "* * * * * \n",
      "\n"
     ]
    }
   ],
   "source": [
    "# WAP to make different patterns triangle\n",
    "row = int(input(\"Enter number of rows for triangle: \"))\n",
    "for i in range(row):\n",
    "    for j in range(i+1):\n",
    "        print(\"* \", end=\"\")\n",
    "    print(\"\\n\")\n",
    "    "
   ]
  },
  {
   "cell_type": "code",
   "execution_count": 8,
   "id": "ca420a4b",
   "metadata": {},
   "outputs": [
    {
     "name": "stdout",
     "output_type": "stream",
     "text": [
      "Enter number of products: 2\n",
      "Enter the name of product: as\n",
      "Enter quantity: 2\n",
      "Enter price of the product: 20\n",
      "Enter the name of product: asd\n",
      "Enter quantity: 2\n",
      "Enter price of the product: 20\n",
      "as 2 20 40\n",
      "asd 2 20 40\n",
      "\n",
      "\n",
      " Total Amount = 80\n"
     ]
    }
   ],
   "source": [
    "# WAP to create a billing system (Product,price,quantity,total,all_total)\n",
    "n = int(input(\"Enter number of products: \"))\n",
    "all_total = 0\n",
    "bill = \"\"\n",
    "for i in range(n):\n",
    "    Product_Name = input(\"Enter the name of product: \")\n",
    "    Quantity = int(input(\"Enter quantity: \"))\n",
    "    Price = int(input(\"Enter price of the product: \"))\n",
    "    total = Price * Quantity\n",
    "    data = Product_Name + \" \" + str(Quantity) + \" \" + str(Price) + \" \" + str(total) + \"\\n\"\n",
    "    bill = bill + data\n",
    "    all_total = all_total + total\n",
    "print(bill)    \n",
    "print(\"Total Amount =\",all_total)"
   ]
  },
  {
   "cell_type": "code",
   "execution_count": 3,
   "id": "ce08399b",
   "metadata": {},
   "outputs": [],
   "source": [
    "#String (LOOP)"
   ]
  },
  {
   "cell_type": "code",
   "execution_count": 6,
   "id": "1ca6d145",
   "metadata": {},
   "outputs": [
    {
     "name": "stdout",
     "output_type": "stream",
     "text": [
      "P Hi\n",
      "y Hi\n",
      "t Hi\n",
      "h Hi\n",
      "o Hi\n",
      "n Hi\n"
     ]
    }
   ],
   "source": [
    "a = \"Python\"\n",
    "for i in a:\n",
    "    print(i, \"Hi\")"
   ]
  },
  {
   "cell_type": "code",
   "execution_count": 10,
   "id": "fb60ba34",
   "metadata": {},
   "outputs": [
    {
     "name": "stdout",
     "output_type": "stream",
     "text": [
      "Hello World I am Python"
     ]
    }
   ],
   "source": [
    "a = \"Hello World I am Python\"\n",
    "for i in a:\n",
    "    print(i, end=\"\") #END - Horizontollay Print "
   ]
  },
  {
   "cell_type": "code",
   "execution_count": 11,
   "id": "ee0c17bf",
   "metadata": {},
   "outputs": [
    {
     "name": "stdout",
     "output_type": "stream",
     "text": [
      "H\n",
      "e\n",
      "l\n",
      "l\n",
      "o\n",
      " \n",
      "W\n",
      "o\n",
      "r\n",
      "l\n",
      "d\n",
      " \n",
      "I\n",
      " \n",
      "a\n",
      "m\n",
      " \n",
      "P\n",
      "y\n",
      "t\n",
      "h\n",
      "o\n",
      "n\n"
     ]
    }
   ],
   "source": [
    "a = \"Hello World I am Python\"\n",
    "for i in a:\n",
    "    print(i)"
   ]
  },
  {
   "cell_type": "code",
   "execution_count": 12,
   "id": "413bbdfb",
   "metadata": {},
   "outputs": [
    {
     "name": "stdout",
     "output_type": "stream",
     "text": [
      "HelloWorldIamPython"
     ]
    }
   ],
   "source": [
    "a = \"Hello World I am Python\"\n",
    "for i in a:\n",
    "    if i != \" \":\n",
    "        print(i, end = \"\")\n",
    "        "
   ]
  },
  {
   "cell_type": "code",
   "execution_count": 14,
   "id": "31684a85",
   "metadata": {},
   "outputs": [
    {
     "name": "stdout",
     "output_type": "stream",
     "text": [
      "Hello World I am Ram I am from Kathmandu I am the best"
     ]
    }
   ],
   "source": [
    "a = \"Hello World I am Ram. I am from Kathmandu. I am the best\"\n",
    "for i in a:\n",
    "    if i != \".\":\n",
    "        print(i, end=\"\")"
   ]
  },
  {
   "cell_type": "markdown",
   "id": "f9b7971f",
   "metadata": {},
   "source": [
    "While Loop"
   ]
  },
  {
   "cell_type": "code",
   "execution_count": 15,
   "id": "acfc57ad",
   "metadata": {},
   "outputs": [],
   "source": [
    "# while <condition>:\n",
    "#     <operation>"
   ]
  },
  {
   "cell_type": "code",
   "execution_count": 1,
   "id": "5e62b51d",
   "metadata": {},
   "outputs": [
    {
     "name": "stdout",
     "output_type": "stream",
     "text": [
      "0\n",
      "1\n",
      "2\n",
      "3\n",
      "4\n"
     ]
    }
   ],
   "source": [
    "a = 0                                    #for i in range(5)\n",
    "while a < 5:\n",
    "    print(a)\n",
    "    a = a + 1"
   ]
  },
  {
   "cell_type": "code",
   "execution_count": 2,
   "id": "882ced80",
   "metadata": {},
   "outputs": [
    {
     "name": "stdout",
     "output_type": "stream",
     "text": [
      "1\n",
      "2\n",
      "3\n",
      "4\n"
     ]
    }
   ],
   "source": [
    "a = 1                                     #for i in range(1.5)\n",
    "while a < 5:\n",
    "    print(a)\n",
    "    a = a + 1"
   ]
  },
  {
   "cell_type": "code",
   "execution_count": 4,
   "id": "a54adc6e",
   "metadata": {},
   "outputs": [
    {
     "name": "stdout",
     "output_type": "stream",
     "text": [
      "1 hi\n",
      "3 hi\n"
     ]
    }
   ],
   "source": [
    "a = 1                                     #for i in range(1.5,2)\n",
    "while a < 5:\n",
    "    print(a, \"hi\")\n",
    "    a = a + 2"
   ]
  },
  {
   "cell_type": "code",
   "execution_count": 5,
   "id": "eb9c1a24",
   "metadata": {},
   "outputs": [
    {
     "name": "stdout",
     "output_type": "stream",
     "text": [
      "0\n",
      "0.5\n",
      "1.0\n",
      "1.5\n",
      "2.0\n"
     ]
    }
   ],
   "source": [
    "a = 0                                     \n",
    "while a <= 2:\n",
    "    print(a)\n",
    "    a = a + 0.5"
   ]
  },
  {
   "cell_type": "code",
   "execution_count": 8,
   "id": "e7259eb3",
   "metadata": {},
   "outputs": [
    {
     "name": "stdout",
     "output_type": "stream",
     "text": [
      "Enter any number = 2\n",
      "2 * 1 = 2\n",
      "2 * 2 = 4\n",
      "2 * 3 = 6\n",
      "2 * 4 = 8\n",
      "2 * 5 = 10\n",
      "2 * 6 = 12\n",
      "2 * 7 = 14\n",
      "2 * 8 = 16\n",
      "2 * 9 = 18\n",
      "2 * 10 = 20\n"
     ]
    }
   ],
   "source": [
    "a = int(input(\"Enter any number = \"))\n",
    "b = 1\n",
    "while b<=10:\n",
    "    c = a * b\n",
    "    print(a,\"*\",b,\"=\",c)   #print(a,\"*\",b,\"=\",a*b)\n",
    "    b = b + 1"
   ]
  },
  {
   "cell_type": "code",
   "execution_count": 10,
   "id": "bff2b1a4",
   "metadata": {},
   "outputs": [
    {
     "name": "stdout",
     "output_type": "stream",
     "text": [
      "Enter any number = 2\n",
      "Enter x = 100\n",
      "Total Balance = 100\n",
      "Enter x = 200\n",
      "Total Balance = 300\n"
     ]
    }
   ],
   "source": [
    "s = 0\n",
    "i = 0\n",
    "n = int(input(\"Enter any number = \"))\n",
    "while i<n:\n",
    "    x = int(input(\"Enter x = \"))\n",
    "    s = s + x\n",
    "    i+=1\n",
    "    print(\"Total Balance =\",s)"
   ]
  },
  {
   "cell_type": "code",
   "execution_count": 2,
   "id": "cd53272b",
   "metadata": {},
   "outputs": [
    {
     "name": "stdout",
     "output_type": "stream",
     "text": [
      "Enter n = 2\n",
      "Enter name: nids\n",
      "Enter number: 53\n",
      "Enter name: sdjs\n",
      "Enter number: 2355\n",
      "nids 53\n",
      "sdjs 2355\n",
      "\n"
     ]
    }
   ],
   "source": [
    "s = \"\"\n",
    "i = 0\n",
    "n = int(input(\"Enter n = \"))\n",
    "while i<n:\n",
    "    name = input(\"Enter name: \")\n",
    "    phone = input(\"Enter number: \")\n",
    "    s = s+ name + \" \" + phone + \"\\n\"\n",
    "    i+=1\n",
    "print(s)"
   ]
  },
  {
   "cell_type": "code",
   "execution_count": 5,
   "id": "46ef6701",
   "metadata": {},
   "outputs": [
    {
     "name": "stdout",
     "output_type": "stream",
     "text": [
      "\n",
      "*\n",
      "**\n",
      "***\n",
      "****\n"
     ]
    }
   ],
   "source": [
    "# j= 1\n",
    "# for i in range(5):\n",
    "#     print(i*\"*\")"
   ]
  },
  {
   "cell_type": "code",
   "execution_count": 7,
   "id": "d202f37a",
   "metadata": {},
   "outputs": [
    {
     "name": "stdout",
     "output_type": "stream",
     "text": [
      "5\n",
      "4\n",
      "3\n",
      "2\n",
      "1\n",
      "0\n"
     ]
    }
   ],
   "source": [
    "i = 5\n",
    "while i>=0:\n",
    "    print(i)\n",
    "    i-=1"
   ]
  },
  {
   "cell_type": "code",
   "execution_count": 9,
   "id": "f465f7de",
   "metadata": {},
   "outputs": [
    {
     "name": "stdout",
     "output_type": "stream",
     "text": [
      "Enter number n = 5\n",
      "The factorial of 5 is 120\n"
     ]
    }
   ],
   "source": [
    "# WAP to find factorial 5! = 1*2*3*4*5\n",
    "s = 1\n",
    "i = 1\n",
    "n = int(input(\"Enter number n = \"))\n",
    "while i<=n:\n",
    "    s = s * i\n",
    "    i +=1\n",
    "print(\"The factorial of\",n, \"is\",s)"
   ]
  },
  {
   "cell_type": "code",
   "execution_count": 11,
   "id": "ad527002",
   "metadata": {},
   "outputs": [
    {
     "name": "stdout",
     "output_type": "stream",
     "text": [
      "Addition from 1 to 100 = 5050\n",
      "Multiplication from 1 to 100 = 93326215443944152681699238856266700490715968264381621468592963895217599993229915608941463976156518286253697920827223758251185210916864000000000000000000000000\n"
     ]
    }
   ],
   "source": [
    "#WAP to add and multiply numbers from 1 to 100\n",
    "a = 0\n",
    "b = 1\n",
    "i = 1\n",
    "while i <= 100:          # for i in range(1,101): \n",
    "    a = a + i\n",
    "    b = b * i\n",
    "    i +=1\n",
    "print(\"Addition from 1 to 100 =\", a)    \n",
    "print(\"Multiplication from 1 to 100 =\",b)"
   ]
  },
  {
   "cell_type": "code",
   "execution_count": null,
   "id": "9bb6eb56",
   "metadata": {},
   "outputs": [],
   "source": [
    "# WAP to make different patterns triangle\n",
    "row = int(input(\"Enter number of rows for triangle: \"))\n",
    "for i in range(row):\n",
    "    for j in range(i+1):\n",
    "        print(\"* \", end=\"\")\n",
    "    print(\"\\n\")\n",
    "    "
   ]
  },
  {
   "cell_type": "code",
   "execution_count": 2,
   "id": "15989e7a",
   "metadata": {},
   "outputs": [
    {
     "name": "stdout",
     "output_type": "stream",
     "text": [
      "Enter number of products: 2\n",
      "Enter the name of product: sa\n",
      "Enter quantity: 2\n",
      "Enter price of the product: 20\n",
      "Total =  40 \n",
      "\n",
      "Enter the name of product: sas\n",
      "Enter quantity: 2\n",
      "Enter price of the product: 20\n",
      "Total =  40 \n",
      "\n",
      "\n",
      " Total Amount = 80\n"
     ]
    }
   ],
   "source": [
    "# WAP to create a billing system (Product,price,quantity,total,all_total)\n",
    "n = int(input(\"Enter number of products: \"))\n",
    "all_total = 0\n",
    "i = 1\n",
    "while i <=n:   #for i in range(n):\n",
    "    Product_Name = input(\"Enter the name of product: \")\n",
    "    Quantity = int(input(\"Enter quantity: \"))\n",
    "    Price = int(input(\"Enter price of the product: \"))\n",
    "    total = Price * Quantity\n",
    "    print(\"Total = \",total,\"\\n\")\n",
    "    all_total = all_total + total\n",
    "    i +=1\n",
    "print(\"\\n Total Amount =\",all_total)"
   ]
  },
  {
   "cell_type": "code",
   "execution_count": 4,
   "id": "69386541",
   "metadata": {},
   "outputs": [
    {
     "name": "stdout",
     "output_type": "stream",
     "text": [
      "o\n",
      "oo\n",
      "ooo\n",
      "oooo\n"
     ]
    }
   ],
   "source": [
    "#trianle\n",
    "n = 5\n",
    "for i in range(1,n):\n",
    "    print(i*\"o\")"
   ]
  },
  {
   "cell_type": "code",
   "execution_count": 5,
   "id": "8a7183ed",
   "metadata": {},
   "outputs": [
    {
     "name": "stdout",
     "output_type": "stream",
     "text": [
      "ooooo\n",
      "oooo\n",
      "ooo\n",
      "oo\n",
      "o\n"
     ]
    }
   ],
   "source": [
    "n = 5\n",
    "for i in range(n,0,-1):       #for i in range(1,n) \n",
    "    print(i*\"o\")              #print((n-1)*\" \",i*\"O\")"
   ]
  },
  {
   "cell_type": "markdown",
   "id": "1c41a3c4",
   "metadata": {},
   "source": [
    "# WAP to detect if the given number is prime or composite number"
   ]
  },
  {
   "cell_type": "code",
   "execution_count": 11,
   "id": "80abdef1",
   "metadata": {},
   "outputs": [
    {
     "name": "stdout",
     "output_type": "stream",
     "text": [
      "Enter any number = 11\n",
      "11 is a prime number\n"
     ]
    }
   ],
   "source": [
    "n = int(input(\"Enter any number = \"))\n",
    "flag = False\n",
    "if n == 1 or n<=0:\n",
    "    print(\"The number is neither prime number nor composite number\")\n",
    "elif n>1:\n",
    "    for i in range(2,n):      #for i in range(2,n//2+1)\n",
    "        if (n % i) == 0:\n",
    "            flag = True\n",
    "            break     #Control Statement\n",
    "    if flag == True:\n",
    "        print(n,\"is a composite number.\")\n",
    "    else:\n",
    "        print(n,\"is a prime number\")\n",
    "            "
   ]
  },
  {
   "cell_type": "markdown",
   "id": "e5a4ccb4",
   "metadata": {},
   "source": [
    "# Control Statement"
   ]
  },
  {
   "cell_type": "code",
   "execution_count": 1,
   "id": "cbdde95d",
   "metadata": {},
   "outputs": [],
   "source": [
    "#break\n",
    "#continue\n",
    "#Pass"
   ]
  },
  {
   "cell_type": "code",
   "execution_count": 2,
   "id": "8e6d38ce",
   "metadata": {},
   "outputs": [
    {
     "name": "stdout",
     "output_type": "stream",
     "text": [
      "0\n",
      "1\n",
      "2\n",
      "3\n",
      "4\n"
     ]
    }
   ],
   "source": [
    "for i in range(10):  #doesnt continue loop\n",
    "    if i == 5:\n",
    "        break\n",
    "    print(i)"
   ]
  },
  {
   "cell_type": "code",
   "execution_count": 10,
   "id": "d0bcfdce",
   "metadata": {},
   "outputs": [
    {
     "name": "stdout",
     "output_type": "stream",
     "text": [
      "0 1 2 3 4 6 7 8 9 "
     ]
    }
   ],
   "source": [
    "for i in range(10): #continues loop\n",
    "    if i == 5:\n",
    "        continue\n",
    "    print(i, end=\" \")"
   ]
  },
  {
   "cell_type": "code",
   "execution_count": 8,
   "id": "fdb3639a",
   "metadata": {},
   "outputs": [
    {
     "name": "stdout",
     "output_type": "stream",
     "text": [
      "Hello World I am Python"
     ]
    }
   ],
   "source": [
    "a = \"Hello World I am Python. I am the best\"\n",
    "for i in a:\n",
    "    if i == \".\":\n",
    "        break\n",
    "    print(i, end = \"\")"
   ]
  },
  {
   "cell_type": "code",
   "execution_count": 11,
   "id": "38266f69",
   "metadata": {},
   "outputs": [
    {
     "name": "stdout",
     "output_type": "stream",
     "text": [
      "0 1 2 3 4 6 7 9 "
     ]
    }
   ],
   "source": [
    "for i in range(10): #continues loop\n",
    "    if i == 5 or i == 8:\n",
    "        continue\n",
    "    print(i, end=\" \")"
   ]
  },
  {
   "cell_type": "code",
   "execution_count": 14,
   "id": "7544c0d9",
   "metadata": {},
   "outputs": [
    {
     "name": "stdout",
     "output_type": "stream",
     "text": [
      "Hello World I am Python I am the best "
     ]
    }
   ],
   "source": [
    "a = \"Hello World I am Python. I am the best. &\"\n",
    "for i in a:\n",
    "    if i == \".\" or i == \"&\":\n",
    "        continue\n",
    "    print(i, end = \"\")"
   ]
  },
  {
   "cell_type": "code",
   "execution_count": 1,
   "id": "bf682a66",
   "metadata": {},
   "outputs": [
    {
     "name": "stdout",
     "output_type": "stream",
     "text": [
      "0\n",
      "1\n",
      "2\n",
      "3\n",
      "4\n"
     ]
    }
   ],
   "source": [
    "i = 0\n",
    "while i<=10:  #doesnt continue loop\n",
    "    if i == 5:\n",
    "        break       \n",
    "    print(i)\n",
    "    i = i+1"
   ]
  },
  {
   "cell_type": "code",
   "execution_count": 4,
   "id": "522ce36c",
   "metadata": {},
   "outputs": [
    {
     "name": "stdout",
     "output_type": "stream",
     "text": [
      "0 1 2 3 4 6 7 8 9 10 "
     ]
    }
   ],
   "source": [
    "i = 0\n",
    "while i <=10:\n",
    "    if i == 5:\n",
    "        i +=1\n",
    "        continue\n",
    "    print(i, end=\" \")\n",
    "    i = i+1"
   ]
  },
  {
   "cell_type": "code",
   "execution_count": 5,
   "id": "4d3e35e1",
   "metadata": {},
   "outputs": [
    {
     "name": "stdout",
     "output_type": "stream",
     "text": [
      "5\n",
      "10\n",
      "15\n",
      "20\n",
      "25\n",
      "30\n",
      "35\n",
      "40\n",
      "45\n",
      "50\n"
     ]
    }
   ],
   "source": [
    "for i in range(1,51):\n",
    "    if i % 5 != 0:\n",
    "        continue\n",
    "    print(i)"
   ]
  },
  {
   "cell_type": "code",
   "execution_count": null,
   "id": "39f56b9d",
   "metadata": {},
   "outputs": [],
   "source": []
  }
 ],
 "metadata": {
  "kernelspec": {
   "display_name": "Python 3 (ipykernel)",
   "language": "python",
   "name": "python3"
  },
  "language_info": {
   "codemirror_mode": {
    "name": "ipython",
    "version": 3
   },
   "file_extension": ".py",
   "mimetype": "text/x-python",
   "name": "python",
   "nbconvert_exporter": "python",
   "pygments_lexer": "ipython3",
   "version": "3.10.9"
  }
 },
 "nbformat": 4,
 "nbformat_minor": 5
}
