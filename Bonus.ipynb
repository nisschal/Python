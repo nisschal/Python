{
 "cells": [
  {
   "cell_type": "code",
   "execution_count": 1,
   "id": "6c5e2105",
   "metadata": {},
   "outputs": [
    {
     "name": "stdout",
     "output_type": "stream",
     "text": [
      "2023-06-19 08:24:52.886822\n"
     ]
    }
   ],
   "source": [
    "#Date and Time Package\n",
    "\n",
    "import datetime as dt\n",
    "\n",
    "x = dt.datetime.now()\n",
    "print(x)"
   ]
  },
  {
   "cell_type": "code",
   "execution_count": 4,
   "id": "26b25037",
   "metadata": {},
   "outputs": [
    {
     "name": "stdout",
     "output_type": "stream",
     "text": [
      "2023\n",
      "6\n",
      "19\n",
      "8\n"
     ]
    }
   ],
   "source": [
    "x = dt.datetime.now()\n",
    "print(x.year)\n",
    "print(x.month)\n",
    "print(x.day)\n",
    "print(x.hour)"
   ]
  },
  {
   "cell_type": "code",
   "execution_count": 9,
   "id": "f43c9f1e",
   "metadata": {},
   "outputs": [
    {
     "name": "stdout",
     "output_type": "stream",
     "text": [
      "Monday\n",
      "Mon\n",
      "June\n",
      "Jun\n",
      "20\n",
      "Mon Jun 19 08:26:05 2023\n",
      "06/19/23\n",
      "19\n"
     ]
    }
   ],
   "source": [
    "print(x.strftime(\"%A\"))\n",
    "print(x.strftime(\"%a\"))\n",
    "print(x.strftime(\"%B\"))\n",
    "print(x.strftime(\"%b\"))\n",
    "print(x.strftime(\"%C\"))\n",
    "print(x.strftime(\"%c\"))\n",
    "print(x.strftime(\"%D\"))\n",
    "print(x.strftime(\"%d\"))"
   ]
  },
  {
   "cell_type": "code",
   "execution_count": 13,
   "id": "9a1b82cc",
   "metadata": {},
   "outputs": [
    {
     "name": "stdout",
     "output_type": "stream",
     "text": [
      "Enter name = Ram\n",
      "4\n"
     ]
    }
   ],
   "source": [
    "x = dt.datetime.now().second\n",
    "name = input(\"Enter name = \")\n",
    "y = dt.datetime.now().second\n",
    "print(y-x)"
   ]
  },
  {
   "cell_type": "code",
   "execution_count": 15,
   "id": "95daf634",
   "metadata": {},
   "outputs": [
    {
     "name": "stdout",
     "output_type": "stream",
     "text": [
      "Enter otp code = 7894\n",
      "You took 11 seconds Your time is out\n"
     ]
    }
   ],
   "source": [
    "x = dt.datetime.now().second\n",
    "otp = input(\"Enter otp code = \")\n",
    "y = dt.datetime.now().second\n",
    "\n",
    "if y-x < 5:\n",
    "    print(\" Please collect your cash\")\n",
    "else:\n",
    "    print(f\"You took {y-x} seconds\",\"Your time is out\")"
   ]
  },
  {
   "cell_type": "code",
   "execution_count": 18,
   "id": "c92db839",
   "metadata": {
    "scrolled": true
   },
   "outputs": [
    {
     "data": {
      "text/plain": [
       "['.ipynb_checkpoints',\n",
       " 'Basic Function.ipynb',\n",
       " 'Bonus.ipynb',\n",
       " 'books.csv',\n",
       " 'data.csv',\n",
       " 'data.txt',\n",
       " 'data1.csv',\n",
       " 'data1.txt',\n",
       " 'Dictionary .ipynb',\n",
       " 'File Handling.ipynb',\n",
       " 'Functions.ipynb',\n",
       " 'new_data.csv',\n",
       " 'OOP.ipynb',\n",
       " 'Pandas.ipynb',\n",
       " 'Python Collection (Array).ipynb',\n",
       " 'SQL.ipynb',\n",
       " 'String.ipynb']"
      ]
     },
     "execution_count": 18,
     "metadata": {},
     "output_type": "execute_result"
    }
   ],
   "source": [
    "#OS Package\n",
    "\n",
    "import os\n",
    "os.listdir()"
   ]
  },
  {
   "cell_type": "code",
   "execution_count": 19,
   "id": "042afe2c",
   "metadata": {},
   "outputs": [],
   "source": [
    "os.mkdir('New Folder')             #ADD New Directory"
   ]
  },
  {
   "cell_type": "code",
   "execution_count": 20,
   "id": "db1ea912",
   "metadata": {},
   "outputs": [
    {
     "data": {
      "text/plain": [
       "['.ipynb_checkpoints',\n",
       " 'Basic Function.ipynb',\n",
       " 'Bonus.ipynb',\n",
       " 'books.csv',\n",
       " 'data.csv',\n",
       " 'data.txt',\n",
       " 'data1.csv',\n",
       " 'data1.txt',\n",
       " 'Dictionary .ipynb',\n",
       " 'File Handling.ipynb',\n",
       " 'Functions.ipynb',\n",
       " 'New Folder',\n",
       " 'new_data.csv',\n",
       " 'OOP.ipynb',\n",
       " 'Pandas.ipynb',\n",
       " 'Python Collection (Array).ipynb',\n",
       " 'SQL.ipynb',\n",
       " 'String.ipynb']"
      ]
     },
     "execution_count": 20,
     "metadata": {},
     "output_type": "execute_result"
    }
   ],
   "source": [
    "os.listdir()"
   ]
  },
  {
   "cell_type": "code",
   "execution_count": 21,
   "id": "fc7490e5",
   "metadata": {},
   "outputs": [],
   "source": [
    "os.chdir('New Folder')     #Change Directory"
   ]
  },
  {
   "cell_type": "code",
   "execution_count": 22,
   "id": "50a883fd",
   "metadata": {},
   "outputs": [
    {
     "data": {
      "text/plain": [
       "'C:\\\\Users\\\\USER\\\\Python_Class\\\\New Folder'"
      ]
     },
     "execution_count": 22,
     "metadata": {},
     "output_type": "execute_result"
    }
   ],
   "source": [
    "pwd"
   ]
  },
  {
   "cell_type": "code",
   "execution_count": 23,
   "id": "999bba82",
   "metadata": {},
   "outputs": [
    {
     "name": "stdout",
     "output_type": "stream",
     "text": [
      "C:\\Users\\USER\\Python_Class\n"
     ]
    }
   ],
   "source": [
    "cd .."
   ]
  },
  {
   "cell_type": "code",
   "execution_count": 24,
   "id": "bf0f5492",
   "metadata": {},
   "outputs": [],
   "source": [
    "os.rename('New Folder','New_Folder')      #Rename Directory"
   ]
  },
  {
   "cell_type": "code",
   "execution_count": 25,
   "id": "3e0aab64",
   "metadata": {},
   "outputs": [],
   "source": [
    "os.rmdir('New_Folder')                   #Delete Directory"
   ]
  },
  {
   "cell_type": "code",
   "execution_count": 26,
   "id": "c7091dde",
   "metadata": {},
   "outputs": [
    {
     "data": {
      "text/plain": [
       "['.ipynb_checkpoints',\n",
       " 'Basic Function.ipynb',\n",
       " 'Bonus.ipynb',\n",
       " 'books.csv',\n",
       " 'data.csv',\n",
       " 'data.txt',\n",
       " 'data1.csv',\n",
       " 'data1.txt',\n",
       " 'Dictionary .ipynb',\n",
       " 'File Handling.ipynb',\n",
       " 'Functions.ipynb',\n",
       " 'new_data.csv',\n",
       " 'OOP.ipynb',\n",
       " 'Pandas.ipynb',\n",
       " 'Python Collection (Array).ipynb',\n",
       " 'SQL.ipynb',\n",
       " 'String.ipynb']"
      ]
     },
     "execution_count": 26,
     "metadata": {},
     "output_type": "execute_result"
    }
   ],
   "source": [
    "os.listdir()"
   ]
  },
  {
   "cell_type": "code",
   "execution_count": 27,
   "id": "b8aee032",
   "metadata": {},
   "outputs": [],
   "source": [
    "# Comprehension: List and Dictionary"
   ]
  },
  {
   "cell_type": "code",
   "execution_count": 31,
   "id": "d3756b8a",
   "metadata": {},
   "outputs": [
    {
     "data": {
      "text/plain": [
       "[0, 1, 2, 3, 4, 5, 6, 7, 8, 9]"
      ]
     },
     "execution_count": 31,
     "metadata": {},
     "output_type": "execute_result"
    }
   ],
   "source": [
    "l = [i for i in range(10)]\n",
    "l"
   ]
  },
  {
   "cell_type": "code",
   "execution_count": 29,
   "id": "afab5ac8",
   "metadata": {},
   "outputs": [
    {
     "name": "stdout",
     "output_type": "stream",
     "text": [
      "Enter values of iRam\n",
      "Enter values of iShyam\n",
      "Enter values of iHari\n",
      "Enter values of iSita\n",
      "Enter values of iGita\n"
     ]
    },
    {
     "data": {
      "text/plain": [
       "['Ram', 'Shyam', 'Hari', 'Sita', 'Gita']"
      ]
     },
     "execution_count": 29,
     "metadata": {},
     "output_type": "execute_result"
    }
   ],
   "source": [
    "l = [input(\"Enter values of i = \") for i in range(5)]\n",
    "l"
   ]
  },
  {
   "cell_type": "code",
   "execution_count": 32,
   "id": "eece3106",
   "metadata": {},
   "outputs": [
    {
     "data": {
      "text/plain": [
       "['apple', 'ball', 'cat', 'dog']"
      ]
     },
     "execution_count": 32,
     "metadata": {},
     "output_type": "execute_result"
    }
   ],
   "source": [
    "l = [\"Apple\",\"Ball\",\"Cat\",\"Dog\"]\n",
    "data = [i.lower() for i in l]\n",
    "data"
   ]
  },
  {
   "cell_type": "code",
   "execution_count": 33,
   "id": "f32b475d",
   "metadata": {},
   "outputs": [],
   "source": [
    "#Dictionary"
   ]
  },
  {
   "cell_type": "code",
   "execution_count": 34,
   "id": "67fa7a65",
   "metadata": {},
   "outputs": [
    {
     "data": {
      "text/plain": [
       "{'Apple': 'apple', 'Ball': 'ball', 'Cat': 'cat', 'Dog': 'dog'}"
      ]
     },
     "execution_count": 34,
     "metadata": {},
     "output_type": "execute_result"
    }
   ],
   "source": [
    "l = [\"Apple\",\"Ball\",\"Cat\",\"Dog\"]\n",
    "d = {i:i.lower() for i in l}\n",
    "d"
   ]
  },
  {
   "cell_type": "code",
   "execution_count": 37,
   "id": "041e5580",
   "metadata": {},
   "outputs": [
    {
     "data": {
      "text/plain": [
       "['apple', 'ball', 'cat', 'dog']"
      ]
     },
     "execution_count": 37,
     "metadata": {},
     "output_type": "execute_result"
    }
   ],
   "source": [
    "list(d.values())"
   ]
  },
  {
   "cell_type": "code",
   "execution_count": 38,
   "id": "f5cfe4e0",
   "metadata": {},
   "outputs": [
    {
     "data": {
      "text/plain": [
       "[('Apple', 'apple'), ('Ball', 'ball'), ('Cat', 'cat'), ('Dog', 'dog')]"
      ]
     },
     "execution_count": 38,
     "metadata": {},
     "output_type": "execute_result"
    }
   ],
   "source": [
    "list(d.items())"
   ]
  },
  {
   "cell_type": "code",
   "execution_count": 39,
   "id": "cc260e88",
   "metadata": {},
   "outputs": [
    {
     "name": "stdout",
     "output_type": "stream",
     "text": [
      "Enter Name = Ram\n",
      "Enter phone = 9841256*547\n",
      "Enter Name = Shyam\n",
      "Enter phone = 987452156\n",
      "Enter Name = Sita\n",
      "Enter phone = 12585247\n",
      "Enter Name = Gita\n",
      "Enter phone = 2457522\n",
      "Enter Name = Hari\n",
      "Enter phone = 12365478\n"
     ]
    },
    {
     "data": {
      "text/plain": [
       "{'Ram': '9841256*547',\n",
       " 'Shyam': '987452156',\n",
       " 'Sita': '12585247',\n",
       " 'Gita': '2457522',\n",
       " 'Hari': '12365478'}"
      ]
     },
     "execution_count": 39,
     "metadata": {},
     "output_type": "execute_result"
    }
   ],
   "source": [
    "d = {input(\"Enter Name = \"):input(\"Enter phone = \") for i in range(5)}\n",
    "d"
   ]
  },
  {
   "cell_type": "code",
   "execution_count": null,
   "id": "8e467be3",
   "metadata": {},
   "outputs": [],
   "source": []
  }
 ],
 "metadata": {
  "kernelspec": {
   "display_name": "Python 3 (ipykernel)",
   "language": "python",
   "name": "python3"
  },
  "language_info": {
   "codemirror_mode": {
    "name": "ipython",
    "version": 3
   },
   "file_extension": ".py",
   "mimetype": "text/x-python",
   "name": "python",
   "nbconvert_exporter": "python",
   "pygments_lexer": "ipython3",
   "version": "3.10.9"
  }
 },
 "nbformat": 4,
 "nbformat_minor": 5
}
