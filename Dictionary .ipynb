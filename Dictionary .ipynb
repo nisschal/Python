{
 "cells": [
  {
   "cell_type": "code",
   "execution_count": 1,
   "id": "46f3231b",
   "metadata": {},
   "outputs": [],
   "source": [
    "# Dictionary (dict) \n",
    "#  - Indexing\n",
    "#  - Multiple and duplicate data\n",
    "#  - Ordered\n",
    "#  - Mutable"
   ]
  },
  {
   "cell_type": "code",
   "execution_count": 3,
   "id": "ce8979bb",
   "metadata": {},
   "outputs": [],
   "source": [
    "# d = {}\n",
    "# d = dict()\n",
    "# d = {<key>:<value>,<key>:<value>}      Key should always be unique   can be integer float or string"
   ]
  },
  {
   "cell_type": "code",
   "execution_count": 7,
   "id": "5995b5b6",
   "metadata": {},
   "outputs": [
    {
     "name": "stdout",
     "output_type": "stream",
     "text": [
      "<class 'dict'>\n",
      "{'a': 'Apple', 'b': 'Ball', 'c': 'Cat', 'd': 'Dog'}\n"
     ]
    }
   ],
   "source": [
    "d = {'a':'Apple','b':'Ball','c':'Cat','d':'Dog'}\n",
    "print(type(d))\n",
    "print(d)"
   ]
  },
  {
   "cell_type": "code",
   "execution_count": 9,
   "id": "818c1005",
   "metadata": {},
   "outputs": [
    {
     "name": "stdout",
     "output_type": "stream",
     "text": [
      "Apple\n",
      "Cat\n"
     ]
    }
   ],
   "source": [
    "d = {'a':'Apple','b':'Ball','c':'Cat','d':'Dog'}\n",
    "print(d['a'])\n",
    "print(d['c'])"
   ]
  },
  {
   "cell_type": "code",
   "execution_count": 10,
   "id": "bef13191",
   "metadata": {},
   "outputs": [
    {
     "data": {
      "text/plain": [
       "4"
      ]
     },
     "execution_count": 10,
     "metadata": {},
     "output_type": "execute_result"
    }
   ],
   "source": [
    "d = {'a':'Apple','b':'Ball','c':'Cat','d':'Dog'}\n",
    "len(d)         #Length - 4 key values"
   ]
  },
  {
   "cell_type": "code",
   "execution_count": 12,
   "id": "bb3e63f2",
   "metadata": {},
   "outputs": [
    {
     "data": {
      "text/plain": [
       "{'a': 'Apple', 'b': 'Ball', 'c': 'Cat', 'd': 'Dog', 'A': 'Apple'}"
      ]
     },
     "execution_count": 12,
     "metadata": {},
     "output_type": "execute_result"
    }
   ],
   "source": [
    "d = {'a':'Apple','b':'Ball','c':'Cat','d':'Dog','A':'Apple'}\n",
    "d"
   ]
  },
  {
   "cell_type": "code",
   "execution_count": 13,
   "id": "df2d4c63",
   "metadata": {},
   "outputs": [],
   "source": [
    "# Cant use operators like + *"
   ]
  },
  {
   "cell_type": "code",
   "execution_count": 14,
   "id": "9d313189",
   "metadata": {},
   "outputs": [
    {
     "name": "stdout",
     "output_type": "stream",
     "text": [
      "{'a': 'Apple', 'b': 'Ball', 'c': 'Cat', 'A': 'Apple', 'd': 'Dog'}\n"
     ]
    }
   ],
   "source": [
    "d = {'a':'Apple','b':'Ball','c':'Cat','A':'Apple'}\n",
    "e = {'d':'Dog'}\n",
    "d.update(e)    # + Concatination\n",
    "print(d)"
   ]
  },
  {
   "cell_type": "code",
   "execution_count": 16,
   "id": "aa02490d",
   "metadata": {},
   "outputs": [
    {
     "data": {
      "text/plain": [
       "{'a': 'Apple', 'b': 'Ball', 'c': 'Cat', 'd': 'Dog'}"
      ]
     },
     "execution_count": 16,
     "metadata": {},
     "output_type": "execute_result"
    }
   ],
   "source": [
    "# Creating Dict\n",
    "d = {}\n",
    "d['a']=\"Apple\"\n",
    "d['b']=\"Ball\"\n",
    "d['c']=\"Cat\"\n",
    "d['d']=\"Dog\"\n",
    "d"
   ]
  },
  {
   "cell_type": "code",
   "execution_count": 17,
   "id": "04228141",
   "metadata": {
    "scrolled": true
   },
   "outputs": [
    {
     "name": "stdout",
     "output_type": "stream",
     "text": [
      "Enter n = 2\n",
      "Enter name = Ram\n",
      "Enter phone = 123\n",
      "Enter name = Shyam\n",
      "Enter phone = 2365\n",
      "{'Ram': '123', 'Shyam': '2365'}\n"
     ]
    }
   ],
   "source": [
    "info = {}\n",
    "n = int(input(\"Enter n = \"))\n",
    "for i in range(n):\n",
    "    name = input(\"Enter name = \")\n",
    "    phone = input(\"Enter phone = \")\n",
    "    info[name] = phone \n",
    "print(info)"
   ]
  },
  {
   "cell_type": "code",
   "execution_count": 19,
   "id": "da4b9d48",
   "metadata": {},
   "outputs": [
    {
     "name": "stdout",
     "output_type": "stream",
     "text": [
      "Ram\n",
      "Shyam\n"
     ]
    }
   ],
   "source": [
    "d = {'Ram': '123', 'Shyam': '2365'}\n",
    "for i in d:       #prints only keys\n",
    "    print(i)"
   ]
  },
  {
   "cell_type": "code",
   "execution_count": 20,
   "id": "8b4eb943",
   "metadata": {},
   "outputs": [
    {
     "name": "stdout",
     "output_type": "stream",
     "text": [
      "123\n",
      "2365\n"
     ]
    }
   ],
   "source": [
    "d = {'Ram': '123', 'Shyam': '2365'}\n",
    "for i in d.values():  #prints only values\n",
    "    print(i)"
   ]
  },
  {
   "cell_type": "code",
   "execution_count": 21,
   "id": "ff1c41f3",
   "metadata": {},
   "outputs": [
    {
     "name": "stdout",
     "output_type": "stream",
     "text": [
      "('Ram', '123')\n",
      "('Shyam', '2365')\n"
     ]
    }
   ],
   "source": [
    "d = {'Ram': '123', 'Shyam': '2365'}\n",
    "for i in d.items():   #prints both keys and values\n",
    "    print(i)"
   ]
  },
  {
   "cell_type": "code",
   "execution_count": 22,
   "id": "cabf3290",
   "metadata": {},
   "outputs": [
    {
     "data": {
      "text/plain": [
       "{'Ram': 9803215478, 'Shyam': 9845632147}"
      ]
     },
     "execution_count": 22,
     "metadata": {},
     "output_type": "execute_result"
    }
   ],
   "source": [
    "d = [['Ram',9803215478],\n",
    "    ['Shyam',9845632147]]\n",
    "dict(d)      #Converts into dictioinary "
   ]
  },
  {
   "cell_type": "code",
   "execution_count": 25,
   "id": "530e76a6",
   "metadata": {},
   "outputs": [
    {
     "data": {
      "text/plain": [
       "{'Ram': 9800000000, 'Shyam': 9845632147}"
      ]
     },
     "execution_count": 25,
     "metadata": {},
     "output_type": "execute_result"
    }
   ],
   "source": [
    "#UPDATE\n",
    "d = {'Ram': 9803215478, 'Shyam': 9845632147}\n",
    "d['Ram'] = 9800000000     #updates value\n",
    "d"
   ]
  },
  {
   "cell_type": "code",
   "execution_count": 26,
   "id": "48864e7b",
   "metadata": {},
   "outputs": [
    {
     "data": {
      "text/plain": [
       "{'Shyam': 9845632147}"
      ]
     },
     "execution_count": 26,
     "metadata": {},
     "output_type": "execute_result"
    }
   ],
   "source": [
    "#DELETE     del pop()\n",
    "d = {'Ram': 9803215478, 'Shyam': 9845632147}\n",
    "del d['Ram']\n",
    "d"
   ]
  },
  {
   "cell_type": "code",
   "execution_count": 29,
   "id": "45d7ce0a",
   "metadata": {},
   "outputs": [
    {
     "name": "stdout",
     "output_type": "stream",
     "text": [
      "{'Shyam': 9845632147}\n",
      "9803215478\n"
     ]
    }
   ],
   "source": [
    "d = {'Ram': 9803215478, 'Shyam': 9845632147}\n",
    "e = d.pop('Ram')\n",
    "print(d)\n",
    "print(e)"
   ]
  },
  {
   "cell_type": "code",
   "execution_count": 30,
   "id": "e0105108",
   "metadata": {},
   "outputs": [
    {
     "data": {
      "text/plain": [
       "{'Ram': [9865412365, 9801236548], 'Shyam': [9865412365, 9845632174]}"
      ]
     },
     "execution_count": 30,
     "metadata": {},
     "output_type": "execute_result"
    }
   ],
   "source": [
    "# List inside Dictionary\n",
    "d = {'Ram':[9865412365,9801236548],'Shyam':[9865412365,9845632174]}      #used for storing multiple value in a key\n",
    "d"
   ]
  },
  {
   "cell_type": "code",
   "execution_count": 31,
   "id": "53b00493",
   "metadata": {},
   "outputs": [
    {
     "name": "stdout",
     "output_type": "stream",
     "text": [
      "Enter n = 2\n",
      "Enter name = Ram\n",
      "Enter ntc number = 9841236541\n",
      "Enter ncell number = 9803456987\n",
      "Enter name = Shyam\n",
      "Enter ntc number = 9849214565\n",
      "Enter ncell number = 9806214785\n",
      "{'Ram': ['9841236541', '9803456987'], 'Shyam': ['9849214565', '9806214785']}\n"
     ]
    }
   ],
   "source": [
    "#Insert multiple values \n",
    "info = {}\n",
    "n = int(input(\"Enter n = \"))\n",
    "for i in range(n):\n",
    "    name = input(\"Enter name = \")\n",
    "    ntc_phone = input(\"Enter ntc number = \")\n",
    "    ncell_phone = input(\"Enter ncell number = \")\n",
    "    info[name] = [ntc_phone,ncell_phone]\n",
    "print(info)"
   ]
  },
  {
   "cell_type": "code",
   "execution_count": 34,
   "id": "fdacc618",
   "metadata": {},
   "outputs": [
    {
     "name": "stdout",
     "output_type": "stream",
     "text": [
      "['9841236541', '9803456987']\n",
      "9803456987\n",
      "9849214565\n"
     ]
    }
   ],
   "source": [
    "info = {'Ram': ['9841236541', '9803456987'], 'Shyam': ['9849214565', '9806214785']}\n",
    "print(info['Ram'])\n",
    "print(info['Ram'][1])\n",
    "print(info['Shyam'][0])"
   ]
  },
  {
   "cell_type": "code",
   "execution_count": 35,
   "id": "0b0a9776",
   "metadata": {},
   "outputs": [],
   "source": [
    "#UPDATE #DELETE  - ####"
   ]
  },
  {
   "cell_type": "code",
   "execution_count": 37,
   "id": "af38bf8d",
   "metadata": {},
   "outputs": [
    {
     "name": "stdout",
     "output_type": "stream",
     "text": [
      "{'name': ['Ram', 'Shyam', 'Hari'], 'age': [45, 55, 65], 'address': ['Kathmandu', 'Bhaktapur', 'Lalitput']}\n"
     ]
    }
   ],
   "source": [
    "d = {'name':['Ram','Shyam','Hari'],\n",
    "     'age':[45,55,65],\n",
    "     'address':['Kathmandu','Bhaktapur','Lalitput']}\n",
    "print(d)"
   ]
  },
  {
   "cell_type": "code",
   "execution_count": 41,
   "id": "7271163c",
   "metadata": {},
   "outputs": [
    {
     "name": "stdout",
     "output_type": "stream",
     "text": [
      "Enter n = 2\n",
      "Enter name = Ram\n",
      "Enter age = 45\n",
      "Enter address = Kathmandu\n",
      "Enter name = Shyam\n",
      "Enter age = 55\n",
      "Enter address = Bhaktapur\n",
      "{'name': ['Ram', 'Shyam'], 'age': [45, 55], 'address': ['Kathmandu', 'Bhaktapur']}\n"
     ]
    }
   ],
   "source": [
    "d = {'name':[],'age':[],'address':[]}\n",
    "n = int(input(\"Enter n = \"))\n",
    "for i in range(n):\n",
    "    name = input(\"Enter name = \")\n",
    "    age = int(input(\"Enter age = \"))\n",
    "    address = input(\"Enter address = \")\n",
    "    d['name'].append(name)\n",
    "    d['age'].append(age)\n",
    "    d['address'].append(address)\n",
    "print(d)"
   ]
  },
  {
   "cell_type": "code",
   "execution_count": 44,
   "id": "99533b16",
   "metadata": {},
   "outputs": [
    {
     "name": "stdout",
     "output_type": "stream",
     "text": [
      "Ram\n",
      "45\n",
      "Kathmandu\n"
     ]
    }
   ],
   "source": [
    "d = {'name': ['Ram', 'Shyam'], 'age': [45, 55], 'address': ['Kathmandu', 'Bhaktapur']}\n",
    "print(d['name'][0])\n",
    "print(d['age'][0])\n",
    "print(d['address'][0])"
   ]
  },
  {
   "cell_type": "code",
   "execution_count": 48,
   "id": "bf861377",
   "metadata": {},
   "outputs": [
    {
     "name": "stdout",
     "output_type": "stream",
     "text": [
      "Ram\n",
      "Shyam\n"
     ]
    }
   ],
   "source": [
    "d = {'name': ['Ram', 'Shyam'], 'age': [45, 55], 'address': ['Kathmandu', 'Bhaktapur']}\n",
    "for i in d['name']:\n",
    "    print(i)"
   ]
  },
  {
   "cell_type": "code",
   "execution_count": 52,
   "id": "4efb2075",
   "metadata": {},
   "outputs": [
    {
     "name": "stdout",
     "output_type": "stream",
     "text": [
      "Ram\n",
      "45\n",
      "Kathmandu\n"
     ]
    }
   ],
   "source": [
    "d = {'name': ['Ram', 'Shyam'], 'age': [45, 55], 'address': ['Kathmandu', 'Bhaktapur']}\n",
    "c = 0 \n",
    "for i in d['name']:\n",
    "    if i == \"Ram\":\n",
    "        print(d['name'][c])\n",
    "        print(d['age'][c])\n",
    "        print(d['address'][c])\n",
    "    c = c + 1"
   ]
  },
  {
   "cell_type": "code",
   "execution_count": null,
   "id": "fcb41f13",
   "metadata": {},
   "outputs": [],
   "source": []
  }
 ],
 "metadata": {
  "kernelspec": {
   "display_name": "Python 3 (ipykernel)",
   "language": "python",
   "name": "python3"
  },
  "language_info": {
   "codemirror_mode": {
    "name": "ipython",
    "version": 3
   },
   "file_extension": ".py",
   "mimetype": "text/x-python",
   "name": "python",
   "nbconvert_exporter": "python",
   "pygments_lexer": "ipython3",
   "version": "3.10.9"
  }
 },
 "nbformat": 4,
 "nbformat_minor": 5
}
