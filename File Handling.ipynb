{
 "cells": [
  {
   "cell_type": "code",
   "execution_count": 1,
   "id": "1980fcb6",
   "metadata": {},
   "outputs": [],
   "source": [
    "# File \n",
    "\n",
    "# file = open('<file_name>','<modes>')\n",
    "# file.close()\n",
    "\n",
    "# with open ('<file_name>','<modes>') as file:\n",
    "#     <operations>\n",
    "    \n",
    "\n",
    "# modes:\n",
    "#     create    x\n",
    "#     read      r\n",
    "#     write     w\n",
    "#     append    a\n"
   ]
  },
  {
   "cell_type": "code",
   "execution_count": 12,
   "id": "c8c4474a",
   "metadata": {},
   "outputs": [
    {
     "ename": "FileExistsError",
     "evalue": "[Errno 17] File exists: 'data.txt'",
     "output_type": "error",
     "traceback": [
      "\u001b[1;31m---------------------------------------------------------------------------\u001b[0m",
      "\u001b[1;31mFileExistsError\u001b[0m                           Traceback (most recent call last)",
      "Cell \u001b[1;32mIn[12], line 1\u001b[0m\n\u001b[1;32m----> 1\u001b[0m file \u001b[38;5;241m=\u001b[39m \u001b[38;5;28;43mopen\u001b[39;49m\u001b[43m(\u001b[49m\u001b[38;5;124;43m'\u001b[39;49m\u001b[38;5;124;43mdata.txt\u001b[39;49m\u001b[38;5;124;43m'\u001b[39;49m\u001b[43m,\u001b[49m\u001b[38;5;124;43m'\u001b[39;49m\u001b[38;5;124;43mx\u001b[39;49m\u001b[38;5;124;43m'\u001b[39;49m\u001b[43m)\u001b[49m              \u001b[38;5;66;03m#Create data\u001b[39;00m\n\u001b[0;32m      2\u001b[0m file\u001b[38;5;241m.\u001b[39mclose()\n",
      "File \u001b[1;32m~\\anaconda3\\lib\\site-packages\\IPython\\core\\interactiveshell.py:282\u001b[0m, in \u001b[0;36m_modified_open\u001b[1;34m(file, *args, **kwargs)\u001b[0m\n\u001b[0;32m    275\u001b[0m \u001b[38;5;28;01mif\u001b[39;00m file \u001b[38;5;129;01min\u001b[39;00m {\u001b[38;5;241m0\u001b[39m, \u001b[38;5;241m1\u001b[39m, \u001b[38;5;241m2\u001b[39m}:\n\u001b[0;32m    276\u001b[0m     \u001b[38;5;28;01mraise\u001b[39;00m \u001b[38;5;167;01mValueError\u001b[39;00m(\n\u001b[0;32m    277\u001b[0m         \u001b[38;5;124mf\u001b[39m\u001b[38;5;124m\"\u001b[39m\u001b[38;5;124mIPython won\u001b[39m\u001b[38;5;124m'\u001b[39m\u001b[38;5;124mt let you open fd=\u001b[39m\u001b[38;5;132;01m{\u001b[39;00mfile\u001b[38;5;132;01m}\u001b[39;00m\u001b[38;5;124m by default \u001b[39m\u001b[38;5;124m\"\u001b[39m\n\u001b[0;32m    278\u001b[0m         \u001b[38;5;124m\"\u001b[39m\u001b[38;5;124mas it is likely to crash IPython. If you know what you are doing, \u001b[39m\u001b[38;5;124m\"\u001b[39m\n\u001b[0;32m    279\u001b[0m         \u001b[38;5;124m\"\u001b[39m\u001b[38;5;124myou can use builtins\u001b[39m\u001b[38;5;124m'\u001b[39m\u001b[38;5;124m open.\u001b[39m\u001b[38;5;124m\"\u001b[39m\n\u001b[0;32m    280\u001b[0m     )\n\u001b[1;32m--> 282\u001b[0m \u001b[38;5;28;01mreturn\u001b[39;00m io_open(file, \u001b[38;5;241m*\u001b[39margs, \u001b[38;5;241m*\u001b[39m\u001b[38;5;241m*\u001b[39mkwargs)\n",
      "\u001b[1;31mFileExistsError\u001b[0m: [Errno 17] File exists: 'data.txt'"
     ]
    }
   ],
   "source": [
    "file = open('data.txt','x')              #Create data\n",
    "file.close()"
   ]
  },
  {
   "cell_type": "code",
   "execution_count": 3,
   "id": "709afd16",
   "metadata": {},
   "outputs": [
    {
     "name": "stdout",
     "output_type": "stream",
     "text": [
      "The file is already there\n"
     ]
    }
   ],
   "source": [
    "try:\n",
    "    file = open('data.txt','x')\n",
    "    file.close()\n",
    "    \n",
    "except:\n",
    "    print(\"The file is already there\")\n",
    "    \n",
    "    "
   ]
  },
  {
   "cell_type": "code",
   "execution_count": 4,
   "id": "e6fbf11b",
   "metadata": {},
   "outputs": [
    {
     "name": "stdout",
     "output_type": "stream",
     "text": [
      "1.Hello World\n",
      "2.Hello World\n",
      "3.Hello World\n",
      "4.Hello World\n",
      "5.Hello World\n",
      "6.Hello World\n",
      "7.Hello World\n"
     ]
    }
   ],
   "source": [
    "#Read File\n",
    "\n",
    "file = open('data.txt','r')\n",
    "x = file.read()              #Mode - Read (r)\n",
    "print(x)\n",
    "file.close()"
   ]
  },
  {
   "cell_type": "code",
   "execution_count": 6,
   "id": "2f0e2c2a",
   "metadata": {},
   "outputs": [
    {
     "data": {
      "text/plain": [
       "['1.Hello World',\n",
       " '2.Hello World',\n",
       " '3.Hello World',\n",
       " '4.Hello World',\n",
       " '5.Hello World',\n",
       " '6.Hello World',\n",
       " '7.Hello World']"
      ]
     },
     "execution_count": 6,
     "metadata": {},
     "output_type": "execute_result"
    }
   ],
   "source": [
    "y = x.split('\\n')\n",
    "y"
   ]
  },
  {
   "cell_type": "code",
   "execution_count": 9,
   "id": "eb571164",
   "metadata": {},
   "outputs": [
    {
     "name": "stdout",
     "output_type": "stream",
     "text": [
      "Enter i = 1\n",
      "1.Hello World\n"
     ]
    }
   ],
   "source": [
    "#Print by Line\n",
    "\n",
    "i = int(input(\"Enter i = \"))\n",
    "print(y[i-1])"
   ]
  },
  {
   "cell_type": "code",
   "execution_count": 11,
   "id": "0251f1c9",
   "metadata": {},
   "outputs": [],
   "source": [
    "file = open('data1.txt','w')\n",
    "file.write('Hello World')\n",
    "file.close()"
   ]
  },
  {
   "cell_type": "code",
   "execution_count": 1,
   "id": "070e4f49",
   "metadata": {},
   "outputs": [
    {
     "name": "stdout",
     "output_type": "stream",
     "text": [
      "Enter number of products: 2\n",
      "Enter the name of product: Pen\n",
      "Enter quantity: 3\n",
      "Enter price of the product: 10\n",
      "Enter the name of product: Pencil\n",
      "Enter quantity: 5\n",
      "Enter price of the product: 5\n",
      "Pen 3 10 30 \n",
      "Pencil 5 5 25 \n",
      "\n"
     ]
    }
   ],
   "source": [
    "#Write (w)\n",
    "\n",
    "# WAP to create a billing system (Product,price,quantity,total,all_total)\n",
    "n = int(input(\"Enter number of products: \"))\n",
    "bill = \"\"\n",
    "for i in range(n):\n",
    "    Product_Name = input(\"Enter the name of product: \")\n",
    "    Quantity = int(input(\"Enter quantity: \"))\n",
    "    Price = int(input(\"Enter price of the product: \"))\n",
    "    total = Price * Quantity\n",
    "    data = f\"{Product_Name} {Quantity} {Price} {total} \\n\"      #String Formatting\n",
    "    bill = bill + data\n",
    "print(bill)    \n",
    "\n",
    "file = open('data1.txt','w')\n",
    "file.write(bill)\n",
    "file.close()\n",
    "\n"
   ]
  },
  {
   "cell_type": "code",
   "execution_count": 5,
   "id": "b704b7a1",
   "metadata": {},
   "outputs": [
    {
     "name": "stdout",
     "output_type": "stream",
     "text": [
      "Pen 3 10 30 \n",
      "Pencil 5 5 25 \n",
      "Paper 5 50 250 \n",
      "\n"
     ]
    }
   ],
   "source": [
    "#READ (r)\n",
    "\n",
    "file = open('data1.txt','r')\n",
    "x = file.read()\n",
    "print(x)\n",
    "file.close()"
   ]
  },
  {
   "cell_type": "code",
   "execution_count": 6,
   "id": "a4a7e611",
   "metadata": {},
   "outputs": [
    {
     "name": "stdout",
     "output_type": "stream",
     "text": [
      "Enter number of products: 1\n",
      "Enter the name of product: Sharpner\n",
      "Enter quantity: 5\n",
      "Enter price of the product: 5\n",
      "Sharpner 5 5 25 \n",
      "\n"
     ]
    }
   ],
   "source": [
    "#APPEND (a)\n",
    "\n",
    "# WAP to create a billing system (Product,price,quantity,total,all_total)\n",
    "n = int(input(\"Enter number of products: \"))\n",
    "bill = \"\"\n",
    "for i in range(n):\n",
    "    Product_Name = input(\"Enter the name of product: \")\n",
    "    Quantity = int(input(\"Enter quantity: \"))\n",
    "    Price = int(input(\"Enter price of the product: \"))\n",
    "    total = Price * Quantity\n",
    "    data = f\"{Product_Name} {Quantity} {Price} {total} \\n\"      #String Formatting\n",
    "    bill = bill + data\n",
    "print(bill)    \n",
    "\n",
    "file = open('data1.txt','a')        #APPEND (a)\n",
    "file.write(bill)\n",
    "file.close()\n",
    "\n"
   ]
  },
  {
   "cell_type": "code",
   "execution_count": 3,
   "id": "e6076c2f",
   "metadata": {},
   "outputs": [
    {
     "name": "stdout",
     "output_type": "stream",
     "text": [
      "Pen 3 10 30 \n",
      "Pencil 5 5 25 \n",
      "Paper 5 50 250 \n",
      "Sharpner 5 5 25 \n",
      "\n"
     ]
    }
   ],
   "source": [
    "#READ (r)\n",
    "\n",
    "file = open('data1.txt','r')\n",
    "x = file.read()\n",
    "print(x)\n",
    "file.close()"
   ]
  },
  {
   "cell_type": "code",
   "execution_count": 4,
   "id": "5f41c814",
   "metadata": {},
   "outputs": [
    {
     "data": {
      "text/plain": [
       "['Pen 3 10 30 ', 'Pencil 5 5 25 ', 'Paper 5 50 250 ', 'Sharpner 5 5 25 ', '']"
      ]
     },
     "execution_count": 4,
     "metadata": {},
     "output_type": "execute_result"
    }
   ],
   "source": [
    "y = x.split('\\n')\n",
    "y"
   ]
  },
  {
   "cell_type": "code",
   "execution_count": 5,
   "id": "94464b73",
   "metadata": {},
   "outputs": [
    {
     "data": {
      "text/plain": [
       "['Pen 3 10 30 ', 'Pencil 5 5 25 ', 'Paper 5 50 250 ', 'Sharpner 5 5 25 ']"
      ]
     },
     "execution_count": 5,
     "metadata": {},
     "output_type": "execute_result"
    }
   ],
   "source": [
    "y = x.split('\\n')[0:-1]\n",
    "y"
   ]
  },
  {
   "cell_type": "code",
   "execution_count": 6,
   "id": "2b86977a",
   "metadata": {},
   "outputs": [
    {
     "data": {
      "text/plain": [
       "[['Pen', '3', '10', '30'],\n",
       " ['Pencil', '5', '5', '25'],\n",
       " ['Paper', '5', '50', '250'],\n",
       " ['Sharpner', '5', '5', '25']]"
      ]
     },
     "execution_count": 6,
     "metadata": {},
     "output_type": "execute_result"
    }
   ],
   "source": [
    "# for i in y:\n",
    "#     print(i.split())      \n",
    "    \n",
    "    \n",
    "    \n",
    "    \n",
    "    \n",
    "bill=[]\n",
    "for i in y:\n",
    "    bill.append(i.split())\n",
    "bill"
   ]
  },
  {
   "cell_type": "code",
   "execution_count": 7,
   "id": "f67b6189",
   "metadata": {},
   "outputs": [
    {
     "name": "stdout",
     "output_type": "stream",
     "text": [
      "['Pen', '3', '10', '30']\n",
      "['Pencil', '5', '5', '25']\n",
      "['Paper', '5', '50', '250']\n",
      "['Sharpner', '5', '5', '25']\n"
     ]
    }
   ],
   "source": [
    "for i in bill:\n",
    "    print(i)"
   ]
  },
  {
   "cell_type": "code",
   "execution_count": 9,
   "id": "21f56d15",
   "metadata": {},
   "outputs": [
    {
     "data": {
      "text/plain": [
       "330"
      ]
     },
     "execution_count": 9,
     "metadata": {},
     "output_type": "execute_result"
    }
   ],
   "source": [
    "s = 0\n",
    "for i in bill:\n",
    "    s = s + int(i[-1])\n",
    "s"
   ]
  },
  {
   "cell_type": "code",
   "execution_count": 13,
   "id": "dbef8132",
   "metadata": {},
   "outputs": [
    {
     "name": "stdout",
     "output_type": "stream",
     "text": [
      "Enter number of products: 2\n",
      "Enter the name of product: Pen\n",
      "Enter quantity: 5\n",
      "Enter price of the product: 10\n",
      "Enter the name of product: Pencil\n",
      "Enter quantity: 5\n",
      "Enter price of the product: 5\n",
      "Pen,5,10,50 \n",
      "Pencil,5,5,25 \n",
      "\n"
     ]
    }
   ],
   "source": [
    "n = int(input(\"Enter number of products: \"))\n",
    "bill = \"\"\n",
    "for i in range(n):\n",
    "    Product_Name = input(\"Enter the name of product: \")\n",
    "    Quantity = int(input(\"Enter quantity: \"))\n",
    "    Price = int(input(\"Enter price of the product: \"))\n",
    "    total = Price * Quantity\n",
    "    data = f\"{Product_Name},{Quantity},{Price},{total} \\n\"      #String Formatting\n",
    "    bill = bill + data\n",
    "print(bill)    \n",
    "\n",
    "file = open('data1.csv','w')\n",
    "file.write('Name,Quantity,Price,Total\\n')\n",
    "file.write(bill)\n",
    "file.close()\n"
   ]
  },
  {
   "cell_type": "code",
   "execution_count": 11,
   "id": "30d93db3",
   "metadata": {},
   "outputs": [
    {
     "data": {
      "text/plain": [
       "'C:\\\\Users\\\\USER\\\\Python_Class'"
      ]
     },
     "execution_count": 11,
     "metadata": {},
     "output_type": "execute_result"
    }
   ],
   "source": [
    "pwd"
   ]
  },
  {
   "cell_type": "code",
   "execution_count": null,
   "id": "eacce4aa",
   "metadata": {},
   "outputs": [],
   "source": []
  }
 ],
 "metadata": {
  "kernelspec": {
   "display_name": "Python 3 (ipykernel)",
   "language": "python",
   "name": "python3"
  },
  "language_info": {
   "codemirror_mode": {
    "name": "ipython",
    "version": 3
   },
   "file_extension": ".py",
   "mimetype": "text/x-python",
   "name": "python",
   "nbconvert_exporter": "python",
   "pygments_lexer": "ipython3",
   "version": "3.10.9"
  }
 },
 "nbformat": 4,
 "nbformat_minor": 5
}
