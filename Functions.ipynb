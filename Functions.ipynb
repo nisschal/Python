{
 "cells": [
  {
   "cell_type": "code",
   "execution_count": null,
   "id": "10d249b8",
   "metadata": {},
   "outputs": [],
   "source": [
    "# #function(two types)\n",
    "#     Predefined\n",
    "#     Userdefined"
   ]
  },
  {
   "cell_type": "code",
   "execution_count": null,
   "id": "8191ba97",
   "metadata": {},
   "outputs": [],
   "source": [
    "#Predefined Function\n",
    "    print() int() float() str() list() tuple() .... "
   ]
  },
  {
   "cell_type": "code",
   "execution_count": 2,
   "id": "ce4874b2",
   "metadata": {},
   "outputs": [],
   "source": [
    "# def <function_name(): #Defining Function \n",
    "#     <operations>\n",
    "# <function_name>()     #Calling Function"
   ]
  },
  {
   "cell_type": "code",
   "execution_count": 3,
   "id": "113573c1",
   "metadata": {},
   "outputs": [
    {
     "name": "stdout",
     "output_type": "stream",
     "text": [
      "Hello World\n"
     ]
    }
   ],
   "source": [
    "def hello():\n",
    "    print(\"Hello World\")\n",
    "hello()"
   ]
  },
  {
   "cell_type": "code",
   "execution_count": 5,
   "id": "056b736b",
   "metadata": {},
   "outputs": [
    {
     "name": "stdout",
     "output_type": "stream",
     "text": [
      "Enter length = 2\n",
      "Enter breadth =2\n",
      "Enter height = 2\n",
      "8\n"
     ]
    }
   ],
   "source": [
    "def volume():\n",
    "    l = int(input(\"Enter length = \"))     #Local Variable - variables inside a function  \n",
    "    b = int(input(\"Enter breadth =\"))\n",
    "    h = int(input(\"Enter height = \"))\n",
    "    v = l * b* h\n",
    "    print(v)\n",
    "volume()"
   ]
  },
  {
   "cell_type": "code",
   "execution_count": 11,
   "id": "898ba1af",
   "metadata": {},
   "outputs": [
    {
     "name": "stdout",
     "output_type": "stream",
     "text": [
      "Enter length = 2\n",
      "Enter breadth =2\n",
      "Enter height = 2\n",
      "2 2 2 8\n"
     ]
    }
   ],
   "source": [
    "def volume():\n",
    "    global l,b,h,v                        #Global Variable\n",
    "        \n",
    "    l = int(input(\"Enter length = \"))     #Local Variable - variables inside a function  \n",
    "    b = int(input(\"Enter breadth =\"))\n",
    "    h = int(input(\"Enter height = \"))\n",
    "    v = l * b* h\n",
    "    \n",
    "\n",
    "volume()\n",
    "\n",
    "print(l,b,h,v)"
   ]
  },
  {
   "cell_type": "code",
   "execution_count": 12,
   "id": "7294320d",
   "metadata": {},
   "outputs": [
    {
     "name": "stdout",
     "output_type": "stream",
     "text": [
      "Enter length = 2\n",
      "Enter breadth =2\n",
      "Enter height = 2\n",
      "8\n",
      "2 2 2\n"
     ]
    }
   ],
   "source": [
    "l = int(input(\"Enter length = \"))     #Global Variable  \n",
    "b = int(input(\"Enter breadth =\"))\n",
    "h = int(input(\"Enter height = \"))\n",
    "\n",
    "\n",
    "def volume():\n",
    "\n",
    "        \n",
    "    v = l * b* h\n",
    "    print(v)\n",
    "\n",
    "volume()\n",
    "\n",
    "print(l,b,h)"
   ]
  },
  {
   "cell_type": "code",
   "execution_count": 13,
   "id": "80940c40",
   "metadata": {},
   "outputs": [],
   "source": [
    "# Function without arguments and no return type\n",
    "# Function with arguments and no return type\n",
    "# Function without arguments and return type\n",
    "# Function with arguments and return type"
   ]
  },
  {
   "cell_type": "code",
   "execution_count": 15,
   "id": "4a72b341",
   "metadata": {},
   "outputs": [
    {
     "name": "stdout",
     "output_type": "stream",
     "text": [
      "Hello World\n"
     ]
    }
   ],
   "source": [
    "#Function with arguments and no return type\n",
    "\n",
    "def hello(x):            #x is a parameter\n",
    "    print(x)\n",
    "\n",
    "    \n",
    "hello(\"Hello World\")     #\"Hello World\" is an argument"
   ]
  },
  {
   "cell_type": "code",
   "execution_count": 16,
   "id": "8df9fdc1",
   "metadata": {},
   "outputs": [
    {
     "name": "stdout",
     "output_type": "stream",
     "text": [
      "Enter length = 2\n",
      "Enter breadth =2\n",
      "Enter height = 2\n",
      "8\n"
     ]
    }
   ],
   "source": [
    "#Function with arguments and no return type\n",
    "\n",
    "def volume(x,y,z):      #x,y,z - parameters\n",
    "    v = x*y*z\n",
    "    print(v)\n",
    "\n",
    "l = int(input(\"Enter length = \"))     \n",
    "b = int(input(\"Enter breadth =\"))\n",
    "h = int(input(\"Enter height = \"))\n",
    "\n",
    "volume(l,b,h)           #l,b,h - arguments\n"
   ]
  },
  {
   "cell_type": "code",
   "execution_count": 17,
   "id": "141a958e",
   "metadata": {},
   "outputs": [
    {
     "name": "stdout",
     "output_type": "stream",
     "text": [
      "Enter length = 2\n",
      "Enter breadth =2\n",
      "Enter height = 2\n",
      "4\n",
      "8\n"
     ]
    }
   ],
   "source": [
    "def area(x,y):\n",
    "    a = x*y\n",
    "    print(a)\n",
    "\n",
    "def volume(x,y,z):\n",
    "    v = x*y*z\n",
    "    print(v)\n",
    "\n",
    "l = int(input(\"Enter length = \"))     \n",
    "b = int(input(\"Enter breadth =\"))\n",
    "h = int(input(\"Enter height = \"))\n",
    "\n",
    "area(l,b)\n",
    "volume(l,b,h)"
   ]
  },
  {
   "cell_type": "code",
   "execution_count": 19,
   "id": "2df9cfca",
   "metadata": {},
   "outputs": [
    {
     "name": "stdout",
     "output_type": "stream",
     "text": [
      "Enter name = Ram\n",
      "Enter address = Kathmandu\n",
      "Enter age = 74\n",
      "Hello World I am Ram. I am from Kathmandu. I am 74\n"
     ]
    }
   ],
   "source": [
    "def info(name,age,address):\n",
    "    print(f\"Hello World I am {name}. I am from {address}. I am {age}\")\n",
    "    \n",
    "name = input(\"Enter name = \")\n",
    "address = input(\"Enter address = \")\n",
    "age = int(input(\"Enter age = \"))\n",
    "\n",
    "info(name,age,address)"
   ]
  },
  {
   "cell_type": "code",
   "execution_count": 21,
   "id": "542a20c3",
   "metadata": {},
   "outputs": [
    {
     "name": "stdout",
     "output_type": "stream",
     "text": [
      "Enter name = Ram\n",
      "Enter address = Kathmandu\n",
      "Enter age = 54\n",
      "Hello World I am Ram. I am from Kathmandu. I am 54\n"
     ]
    }
   ],
   "source": [
    "def info(x):\n",
    "    name,age,address = x\n",
    "    print(f\"Hello World I am {name}. I am from {address}. I am {age}\")\n",
    "    \n",
    "name = input(\"Enter name = \")\n",
    "address = input(\"Enter address = \")\n",
    "age = int(input(\"Enter age = \"))\n",
    "l = [name,age,address]\n",
    "\n",
    "info(l)"
   ]
  },
  {
   "cell_type": "code",
   "execution_count": 23,
   "id": "e7d18214",
   "metadata": {},
   "outputs": [
    {
     "name": "stdout",
     "output_type": "stream",
     "text": [
      "I love C++\n",
      "I love C\n",
      "I love Java\n",
      "I love Python\n"
     ]
    }
   ],
   "source": [
    "def language(lan = \"Python\"):\n",
    "    print(f\"I love {lan}\")\n",
    "\n",
    "language(\"C++\")\n",
    "langugae(\"C\")\n",
    "langugae(\"Java\")\n",
    "langugae()\n",
    "    "
   ]
  },
  {
   "cell_type": "code",
   "execution_count": 24,
   "id": "ddde3bce",
   "metadata": {},
   "outputs": [],
   "source": [
    "# Return type function"
   ]
  },
  {
   "cell_type": "code",
   "execution_count": 25,
   "id": "a31ef0dc",
   "metadata": {},
   "outputs": [
    {
     "data": {
      "text/plain": [
       "'Hello World'"
      ]
     },
     "execution_count": 25,
     "metadata": {},
     "output_type": "execute_result"
    }
   ],
   "source": [
    "def hello():\n",
    "    return \"Hello World\"\n",
    "\n",
    "hello()"
   ]
  },
  {
   "cell_type": "code",
   "execution_count": 27,
   "id": "81e2c9bd",
   "metadata": {},
   "outputs": [
    {
     "name": "stdout",
     "output_type": "stream",
     "text": [
      "50\n"
     ]
    }
   ],
   "source": [
    "def area(l,b):\n",
    "    a = l*b\n",
    "    return a\n",
    "\n",
    "x = area(10,5)\n",
    "print(x)"
   ]
  },
  {
   "cell_type": "code",
   "execution_count": 2,
   "id": "97d181bc",
   "metadata": {},
   "outputs": [
    {
     "name": "stdout",
     "output_type": "stream",
     "text": [
      "Enter l = 2\n",
      "Enter b = 2\n",
      "Enter h = 5\n",
      "The area is  4\n",
      "The volume is 20\n"
     ]
    }
   ],
   "source": [
    "def area(l,b):\n",
    "    a = l*b\n",
    "    return a\n",
    "\n",
    "l= int(input(\"Enter l = \"))\n",
    "b= int(input(\"Enter b = \"))\n",
    "h = int(input(\"Enter h = \"))\n",
    "x= area(l,b)                       #Function Call\n",
    "print(\"The area is \",x)\n",
    "volume = x * h\n",
    "print(\"The volume is\",volume)"
   ]
  },
  {
   "cell_type": "code",
   "execution_count": 3,
   "id": "20c46b79",
   "metadata": {},
   "outputs": [
    {
     "name": "stdout",
     "output_type": "stream",
     "text": [
      "Enter l = 2\n",
      "Enter b = 2\n",
      "Enter h = 2\n"
     ]
    },
    {
     "data": {
      "text/plain": [
       "(4, 8)"
      ]
     },
     "execution_count": 3,
     "metadata": {},
     "output_type": "execute_result"
    }
   ],
   "source": [
    "def cal(l,b,h):\n",
    "    a = l*b\n",
    "    v = a * h\n",
    "    return a,v\n",
    "\n",
    "l= int(input(\"Enter l = \"))\n",
    "b= int(input(\"Enter b = \"))\n",
    "h = int(input(\"Enter h = \"))\n",
    "cal(l,b,h)                       #Function Call\n"
   ]
  },
  {
   "cell_type": "code",
   "execution_count": 2,
   "id": "fb4e1503",
   "metadata": {},
   "outputs": [
    {
     "name": "stdout",
     "output_type": "stream",
     "text": [
      "Enter a = 5\n",
      "Enter b = 5\n",
      "Enter + or - or * or / = +\n",
      "10\n"
     ]
    }
   ],
   "source": [
    "#Basic Calculations using Function\n",
    "def add(a,b):\n",
    "    return a+b\n",
    "def subtract(a,b):\n",
    "    return a-b\n",
    "def multiply(a,b):\n",
    "    return a*b\n",
    "def division(a,b):\n",
    "    return a/b\n",
    "\n",
    "def calculation(a,b,o):\n",
    "    if o==\"+\":\n",
    "        print(add(a,b))\n",
    "    elif o==\"-\":\n",
    "        print(subtract(a,b))            #Call Function\n",
    "    elif o==\"*\":\n",
    "        print(multiply(a,b))\n",
    "    elif o==\"/\" and b!=0:\n",
    "        print(division(a/b))\n",
    "    elif o==\"/\" and b==0:\n",
    "        print(\"The value of b cannot be zero\")\n",
    "    else:\n",
    "        print(\"Invalid Input\")\n",
    "    \n",
    "a = int(input(\"Enter a = \"))\n",
    "b = int(input(\"Enter b = \"))\n",
    "o = input(\"Enter + or - or * or / = \")\n",
    "\n",
    "calculation(a,b,o)                     #Call Function"
   ]
  },
  {
   "cell_type": "code",
   "execution_count": 3,
   "id": "bc91330f",
   "metadata": {},
   "outputs": [],
   "source": [
    "# Recursive Function\n",
    "#     Function that calls itself\n",
    "    "
   ]
  },
  {
   "cell_type": "code",
   "execution_count": 4,
   "id": "3112722a",
   "metadata": {},
   "outputs": [
    {
     "name": "stdout",
     "output_type": "stream",
     "text": [
      "Hello World\n",
      "Hello World\n"
     ]
    }
   ],
   "source": [
    "def hello():\n",
    "    print(\"Hello World\")\n",
    "    hello()                   #Goes on infinite Loop \n",
    "\n",
    "hello()"
   ]
  },
  {
   "cell_type": "code",
   "execution_count": 1,
   "id": "bf6956b8",
   "metadata": {},
   "outputs": [
    {
     "name": "stdout",
     "output_type": "stream",
     "text": [
      "Hello World\n",
      "Enter Y for more print y\n",
      "Hello World\n",
      "Enter Y for more print y\n",
      "Hello World\n",
      "Enter Y for more print y\n",
      "Hello World\n",
      "Enter Y for more print y\n",
      "Hello World\n",
      "Enter Y for more print as\n"
     ]
    }
   ],
   "source": [
    "def hello():\n",
    "    print(\"Hello World\")\n",
    "    x = input(\"Enter Y for more print \")\n",
    "    if x == 'Y' or x == 'y':\n",
    "        hello()\n",
    "\n",
    "hello()"
   ]
  },
  {
   "cell_type": "code",
   "execution_count": 5,
   "id": "02f3deff",
   "metadata": {},
   "outputs": [],
   "source": [
    "# Lambda Function\n",
    "#     anonymous function\n",
    "#     numerous arguments but only one expression\n",
    "    "
   ]
  },
  {
   "cell_type": "code",
   "execution_count": 6,
   "id": "92852a5b",
   "metadata": {},
   "outputs": [],
   "source": [
    "# Lamdba Function\n",
    "\n",
    "#     lambda <arguments> : <expression> or <operation>"
   ]
  },
  {
   "cell_type": "code",
   "execution_count": 7,
   "id": "34e772c6",
   "metadata": {},
   "outputs": [
    {
     "data": {
      "text/plain": [
       "9"
      ]
     },
     "execution_count": 7,
     "metadata": {},
     "output_type": "execute_result"
    }
   ],
   "source": [
    "y = lambda x:x**2\n",
    "y(3)"
   ]
  },
  {
   "cell_type": "code",
   "execution_count": 8,
   "id": "80e11315",
   "metadata": {},
   "outputs": [
    {
     "data": {
      "text/plain": [
       "False"
      ]
     },
     "execution_count": 8,
     "metadata": {},
     "output_type": "execute_result"
    }
   ],
   "source": [
    "y = lambda x:(x%2==0)\n",
    "y(3)"
   ]
  },
  {
   "cell_type": "code",
   "execution_count": 9,
   "id": "a57f9981",
   "metadata": {},
   "outputs": [
    {
     "data": {
      "text/plain": [
       "50"
      ]
     },
     "execution_count": 9,
     "metadata": {},
     "output_type": "execute_result"
    }
   ],
   "source": [
    "area = lambda l,b : l*b\n",
    "area(10,5)"
   ]
  },
  {
   "cell_type": "code",
   "execution_count": 10,
   "id": "0a4f1343",
   "metadata": {},
   "outputs": [],
   "source": [
    "# Filtering\n",
    "#     filter(boolean condition,list)\n",
    "#      list(filter(lambda <argument>:<expression>,list))"
   ]
  },
  {
   "cell_type": "code",
   "execution_count": 11,
   "id": "21cd5f99",
   "metadata": {},
   "outputs": [
    {
     "data": {
      "text/plain": [
       "[32, 56, 84, 32, 66, 90]"
      ]
     },
     "execution_count": 11,
     "metadata": {},
     "output_type": "execute_result"
    }
   ],
   "source": [
    "#Filter\n",
    "l = [32,45,55,56,84,25,32,66,90,25,65,85,47]\n",
    "list(filter(lambda x:x%2==0,l))"
   ]
  },
  {
   "cell_type": "code",
   "execution_count": 14,
   "id": "7a47724b",
   "metadata": {},
   "outputs": [
    {
     "data": {
      "text/plain": [
       "['CAT', 'DOG', 'FISH', 'GOAT']"
      ]
     },
     "execution_count": 14,
     "metadata": {},
     "output_type": "execute_result"
    }
   ],
   "source": [
    "l = [\"Apple\",\"CAT\",\"DOG\",\"FISH\",\"GOAT\"]\n",
    "list(filter(lambda x:x.isupper(),l))                 #isupper() - Filters Upper Case"
   ]
  },
  {
   "cell_type": "code",
   "execution_count": 18,
   "id": "69b7d21c",
   "metadata": {},
   "outputs": [
    {
     "data": {
      "text/plain": [
       "['fISH', 'ant']"
      ]
     },
     "execution_count": 18,
     "metadata": {},
     "output_type": "execute_result"
    }
   ],
   "source": [
    "l = [\"Apple\",\"CAT\",\"DOG\",\"fISH\",\"GOAT\",\"ant\"]\n",
    "list(filter(lambda x:x[0].islower(),l))             #islower() - Filters lower Case"
   ]
  },
  {
   "cell_type": "code",
   "execution_count": 19,
   "id": "93de62e3",
   "metadata": {},
   "outputs": [],
   "source": [
    "# Map Function\n",
    "#         list(map(lambda <argument>:<expression>,list))"
   ]
  },
  {
   "cell_type": "code",
   "execution_count": 20,
   "id": "601dbf15",
   "metadata": {},
   "outputs": [
    {
     "data": {
      "text/plain": [
       "[244444.2,\n",
       " 5019536.5,\n",
       " 136019.40000000002,\n",
       " 13200.000000000002,\n",
       " 2601951.0,\n",
       " 1344444.2000000002,\n",
       " 11000.0]"
      ]
     },
     "execution_count": 20,
     "metadata": {},
     "output_type": "execute_result"
    }
   ],
   "source": [
    "salary = [222222,4563215,123654,12000,2365410,1222222,10000]\n",
    "list(map(lambda x:x*1.1,salary))"
   ]
  },
  {
   "cell_type": "code",
   "execution_count": 21,
   "id": "9b94c956",
   "metadata": {},
   "outputs": [
    {
     "data": {
      "text/plain": [
       "[244444, 5019536, 136019, 13200, 2601951, 1344444, 11000]"
      ]
     },
     "execution_count": 21,
     "metadata": {},
     "output_type": "execute_result"
    }
   ],
   "source": [
    "salary = [222222,4563215,123654,12000,2365410,1222222,10000]\n",
    "list(map(lambda x:int(x*1.1),salary))"
   ]
  },
  {
   "cell_type": "code",
   "execution_count": 22,
   "id": "1492ce3c",
   "metadata": {},
   "outputs": [
    {
     "data": {
      "text/plain": [
       "['apple', 'cat', 'dog', 'fish', 'goat', 'ant']"
      ]
     },
     "execution_count": 22,
     "metadata": {},
     "output_type": "execute_result"
    }
   ],
   "source": [
    "l = [\"Apple\",\"CAT\",\"DOG\",\"fISH\",\"GOAT\",\"ant\"]\n",
    "list(map(lambda x:x.lower(),l))                #Convert list into lower case"
   ]
  },
  {
   "cell_type": "code",
   "execution_count": null,
   "id": "a3d9eb45",
   "metadata": {},
   "outputs": [],
   "source": []
  }
 ],
 "metadata": {
  "kernelspec": {
   "display_name": "Python 3 (ipykernel)",
   "language": "python",
   "name": "python3"
  },
  "language_info": {
   "codemirror_mode": {
    "name": "ipython",
    "version": 3
   },
   "file_extension": ".py",
   "mimetype": "text/x-python",
   "name": "python",
   "nbconvert_exporter": "python",
   "pygments_lexer": "ipython3",
   "version": "3.10.9"
  }
 },
 "nbformat": 4,
 "nbformat_minor": 5
}
