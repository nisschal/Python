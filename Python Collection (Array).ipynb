{
 "cells": [
  {
   "cell_type": "code",
   "execution_count": 1,
   "id": "4e622567",
   "metadata": {},
   "outputs": [],
   "source": [
    "# Python Collection\n",
    "# List\n",
    "# tuple\n",
    "# dict\n",
    "# set"
   ]
  },
  {
   "cell_type": "code",
   "execution_count": 2,
   "id": "84759632",
   "metadata": {},
   "outputs": [],
   "source": [
    "# List (Indexing support)\n",
    "# Multiple Data\n",
    "# Duplicate Data \n",
    "# Mutable Datatype\n",
    "#Ordered"
   ]
  },
  {
   "cell_type": "code",
   "execution_count": 3,
   "id": "2ee530ac",
   "metadata": {},
   "outputs": [],
   "source": [
    "l = []\n",
    "l = list()\n"
   ]
  },
  {
   "cell_type": "code",
   "execution_count": 5,
   "id": "9c2fde43",
   "metadata": {},
   "outputs": [
    {
     "name": "stdout",
     "output_type": "stream",
     "text": [
      "<class 'list'>\n",
      "[1, 2, 3, 4, 5, 6, 7, 8, 9]\n"
     ]
    }
   ],
   "source": [
    "a = [1,2,3,4,5,6,7,8,9]\n",
    "print(type(a))\n",
    "print(a)"
   ]
  },
  {
   "cell_type": "code",
   "execution_count": 9,
   "id": "9157ba3e",
   "metadata": {},
   "outputs": [
    {
     "name": "stdout",
     "output_type": "stream",
     "text": [
      "Ball\n",
      "['Apple', 'Ball', 'Cat', 'Dog']\n",
      "['Apple', 'Cat', 'Fish']\n"
     ]
    }
   ],
   "source": [
    "a = [\"Apple\", \"Ball\", \"Cat\", \"Dog\", \"Fish\"]\n",
    "print(a[1])     #Indexing - Prints value relative to their position in the list\n",
    "print(a[0:4])\n",
    "print(a[0:5:2])"
   ]
  },
  {
   "cell_type": "code",
   "execution_count": 10,
   "id": "88781427",
   "metadata": {},
   "outputs": [
    {
     "data": {
      "text/plain": [
       "['Apple', 'Ball', 'Cat', 'Dog', 'Fish', 'Apple']"
      ]
     },
     "execution_count": 10,
     "metadata": {},
     "output_type": "execute_result"
    }
   ],
   "source": [
    "a = [\"Apple\", \"Ball\", \"Cat\", \"Dog\", \"Fish\", \"Apple\"]    #duplicate  Data\n",
    "a"
   ]
  },
  {
   "cell_type": "code",
   "execution_count": 12,
   "id": "32feb928",
   "metadata": {},
   "outputs": [
    {
     "name": "stdout",
     "output_type": "stream",
     "text": [
      "[1, 2, 3, 2]\n"
     ]
    }
   ],
   "source": [
    "a=[1,2,3]       #Both the variable should be a list to concatenate\n",
    "b = [2]\n",
    "c = a + b\n",
    "print(c)"
   ]
  },
  {
   "cell_type": "code",
   "execution_count": 15,
   "id": "4ebb6dc1",
   "metadata": {},
   "outputs": [
    {
     "name": "stdout",
     "output_type": "stream",
     "text": [
      "[1, 2, 3, 1, 2, 3]\n"
     ]
    }
   ],
   "source": [
    "a = [1,2,3]     #One variable should be an integer to multiply\n",
    "b = 2\n",
    "print(a*b)"
   ]
  },
  {
   "cell_type": "code",
   "execution_count": 17,
   "id": "05a7eb0c",
   "metadata": {},
   "outputs": [
    {
     "name": "stdout",
     "output_type": "stream",
     "text": [
      "Enter n = 5\n",
      "Enter x = 1\n",
      "Enter x = 2\n",
      "Enter x = 3\n",
      "Enter x = 4\n",
      "Enter x = 5\n",
      "[1, 2, 3, 4, 5]\n"
     ]
    }
   ],
   "source": [
    "l = []\n",
    "n = int(input(\"Enter n = \"))\n",
    "for i in range(n):\n",
    "    x = int(input(\"Enter x = \"))\n",
    "    l = l + [x]\n",
    "print(l)"
   ]
  },
  {
   "cell_type": "code",
   "execution_count": 21,
   "id": "64d030ac",
   "metadata": {},
   "outputs": [
    {
     "name": "stdout",
     "output_type": "stream",
     "text": [
      "The maximum value is  5\n",
      "The minimum value is  1\n",
      "The sum of l is  15\n"
     ]
    }
   ],
   "source": [
    "l = [1, 2, 3, 4, 5]\n",
    "print(\"The maximum value is \", max(l))\n",
    "print(\"The minimum value is \", min(l))\n",
    "print(\"The sum of l is \", sum(l))"
   ]
  },
  {
   "cell_type": "code",
   "execution_count": 22,
   "id": "3a72b975",
   "metadata": {},
   "outputs": [
    {
     "name": "stdout",
     "output_type": "stream",
     "text": [
      "[1, 2, 3, 4, 5]\n"
     ]
    }
   ],
   "source": [
    "l.sort()  #ascending order\n",
    "print(l)"
   ]
  },
  {
   "cell_type": "code",
   "execution_count": 23,
   "id": "f68d7dde",
   "metadata": {},
   "outputs": [
    {
     "name": "stdout",
     "output_type": "stream",
     "text": [
      "[5, 4, 3, 2, 1]\n"
     ]
    }
   ],
   "source": [
    "l.reverse()  #descending order\n",
    "print(l)"
   ]
  },
  {
   "cell_type": "code",
   "execution_count": 25,
   "id": "e84dc5d3",
   "metadata": {},
   "outputs": [
    {
     "name": "stdout",
     "output_type": "stream",
     "text": [
      "Apple\n",
      "Ball\n",
      "Cat\n",
      "Dog\n",
      "Fish\n",
      "Apple\n"
     ]
    }
   ],
   "source": [
    "a = [\"Apple\", \"Ball\", \"Cat\", \"Dog\", \"Fish\", \"Apple\"]\n",
    "for i in a:\n",
    "    print(i)"
   ]
  },
  {
   "cell_type": "code",
   "execution_count": 26,
   "id": "9a416bca",
   "metadata": {},
   "outputs": [
    {
     "name": "stdout",
     "output_type": "stream",
     "text": [
      "Apple\n",
      "Ball\n",
      "Cat\n",
      "Dog\n",
      "Fish\n",
      "Apple\n"
     ]
    }
   ],
   "source": [
    "for i in range(len(a)):\n",
    "    print(a[i])"
   ]
  },
  {
   "cell_type": "code",
   "execution_count": null,
   "id": "9ae6b50f",
   "metadata": {},
   "outputs": [],
   "source": []
  },
  {
   "cell_type": "code",
   "execution_count": 28,
   "id": "786f7112",
   "metadata": {},
   "outputs": [
    {
     "name": "stdout",
     "output_type": "stream",
     "text": [
      "Yes\n",
      "1\n"
     ]
    }
   ],
   "source": [
    "a = [\"Ram\", \"Shyam\", \"Hari\", \"Sita\", \"Gita\", \"Nabin\", \"Ramesh\"]\n",
    "if \"Ram\" in a:\n",
    "    print(\"Yes\")\n",
    "    print(a.count(\"Ram\"))\n",
    "else:\n",
    "    print(\"No\")"
   ]
  },
  {
   "cell_type": "code",
   "execution_count": 29,
   "id": "d16ba7eb",
   "metadata": {},
   "outputs": [],
   "source": [
    "# WAP to search any values in a list have case insensitive"
   ]
  },
  {
   "cell_type": "code",
   "execution_count": 30,
   "id": "dc7fa6b0",
   "metadata": {},
   "outputs": [],
   "source": [
    "# Add Values\n",
    "# append() insert() extend()\n",
    "\n",
    "# Delete values\n",
    "# del remove() pop()"
   ]
  },
  {
   "cell_type": "code",
   "execution_count": 32,
   "id": "fc95eec4",
   "metadata": {},
   "outputs": [
    {
     "name": "stdout",
     "output_type": "stream",
     "text": [
      "[1, 2, 3, 4, 5, 'Apple', 'Ball']\n"
     ]
    }
   ],
   "source": [
    "#append()\n",
    "a = [1,2,3,4,5]\n",
    "a.append(\"Apple\")\n",
    "a.append(\"Ball\")\n",
    "print(a)"
   ]
  },
  {
   "cell_type": "code",
   "execution_count": 33,
   "id": "8d52bafe",
   "metadata": {},
   "outputs": [
    {
     "name": "stdout",
     "output_type": "stream",
     "text": [
      "['Apple', 'Ball', 'Cat', 'Can', 'Dog', 'Fish']\n"
     ]
    }
   ],
   "source": [
    "#insert()\n",
    "a = ['Apple', 'Ball',\"Cat\", \"Dog\", \"Fish\"]\n",
    "a.insert(3,\"Can\")\n",
    "print(a)"
   ]
  },
  {
   "cell_type": "code",
   "execution_count": 35,
   "id": "adb799dd",
   "metadata": {},
   "outputs": [
    {
     "data": {
      "text/plain": [
       "['Apple', 'Ball', 'Cat', 'Dog', 'Fish', 1, 2, 3, 4, 5]"
      ]
     },
     "execution_count": 35,
     "metadata": {},
     "output_type": "execute_result"
    }
   ],
   "source": [
    "#extend()\n",
    "a = ['Apple', 'Ball',\"Cat\", \"Dog\", \"Fish\"]\n",
    "b = [1,2,3,4,5]\n",
    "a.extend(b)   #values of b to a \n",
    "a"
   ]
  },
  {
   "cell_type": "code",
   "execution_count": 36,
   "id": "30de66be",
   "metadata": {},
   "outputs": [
    {
     "name": "stdout",
     "output_type": "stream",
     "text": [
      "['Ant', 'Ball', 'Cat', 'Dog', 'Fish']\n"
     ]
    }
   ],
   "source": [
    "#update\n",
    "a = ['Apple', 'Ball',\"Cat\", \"Dog\", \"Fish\"]\n",
    "a[0] = \"Ant\"\n",
    "print(a)"
   ]
  },
  {
   "cell_type": "code",
   "execution_count": 37,
   "id": "84803c01",
   "metadata": {},
   "outputs": [
    {
     "name": "stdout",
     "output_type": "stream",
     "text": [
      "['apple', 'ball', 'Cat', 'Dog', 'Fish']\n"
     ]
    }
   ],
   "source": [
    "a = ['Apple', 'Ball',\"Cat\", \"Dog\", \"Fish\"]\n",
    "a[0:2] = [\"apple\", \"ball\"]\n",
    "print(a)"
   ]
  },
  {
   "cell_type": "code",
   "execution_count": null,
   "id": "6aeb5e62",
   "metadata": {},
   "outputs": [],
   "source": [
    "#Delete\n",
    "# del remove() #pop() "
   ]
  },
  {
   "cell_type": "code",
   "execution_count": 1,
   "id": "36535a07",
   "metadata": {},
   "outputs": [
    {
     "name": "stdout",
     "output_type": "stream",
     "text": [
      "['Ball', 'Cat', 'Dog', 'Fish']\n"
     ]
    }
   ],
   "source": [
    "a = ['Apple', 'Ball',\"Cat\", \"Dog\", \"Fish\"]\n",
    "del a[0]\n",
    "print(a)"
   ]
  },
  {
   "cell_type": "code",
   "execution_count": 2,
   "id": "c2dd62ae",
   "metadata": {},
   "outputs": [
    {
     "name": "stdout",
     "output_type": "stream",
     "text": [
      "['Dog', 'Fish']\n"
     ]
    }
   ],
   "source": [
    "a = ['Apple', 'Ball',\"Cat\", \"Dog\", \"Fish\"]\n",
    "del a[0:3]\n",
    "print(a)"
   ]
  },
  {
   "cell_type": "code",
   "execution_count": 6,
   "id": "21eb7f62",
   "metadata": {},
   "outputs": [
    {
     "name": "stdout",
     "output_type": "stream",
     "text": [
      "['Ball', 'Cat', 'Dog', 'Fish']\n"
     ]
    }
   ],
   "source": [
    "#remove()\n",
    "a = ['Apple', 'Ball',\"Cat\", \"Dog\", \"Fish\"]\n",
    "a.remove('Apple')\n",
    "print(a)"
   ]
  },
  {
   "cell_type": "code",
   "execution_count": 8,
   "id": "128ef04b",
   "metadata": {},
   "outputs": [
    {
     "name": "stdout",
     "output_type": "stream",
     "text": [
      "['Ball', 'Cat', 'Dog', 'Fish']\n"
     ]
    }
   ],
   "source": [
    "a = ['Apple', 'Ball',\"Cat\", \"Dog\", \"Fish\",\"Apple\"]      #Duplicate values\n",
    "c = a.count(\"Apple\")\n",
    "for i in range(c):\n",
    "    a.remove('Apple')\n",
    "print(a)"
   ]
  },
  {
   "cell_type": "code",
   "execution_count": 10,
   "id": "32652e8a",
   "metadata": {},
   "outputs": [
    {
     "data": {
      "text/plain": [
       "['Ball', 'Cat', 'Dog', 'Fish']"
      ]
     },
     "execution_count": 10,
     "metadata": {},
     "output_type": "execute_result"
    }
   ],
   "source": [
    "#pop()\n",
    "a = ['Apple', 'Ball',\"Cat\", \"Dog\", \"Fish\"]\n",
    "a.pop(0)\n",
    "a"
   ]
  },
  {
   "cell_type": "code",
   "execution_count": 11,
   "id": "bae191f2",
   "metadata": {},
   "outputs": [
    {
     "name": "stdout",
     "output_type": "stream",
     "text": [
      "['Ball', 'Cat', 'Dog', 'Fish']\n",
      "Apple\n"
     ]
    }
   ],
   "source": [
    "a = ['Apple', 'Ball',\"Cat\", \"Dog\", \"Fish\"]      #Can store the value in another variable through pop()\n",
    "b = a.pop(0)\n",
    "print(a)\n",
    "print(b)"
   ]
  },
  {
   "cell_type": "code",
   "execution_count": 18,
   "id": "49eedfc3",
   "metadata": {},
   "outputs": [
    {
     "name": "stdout",
     "output_type": "stream",
     "text": [
      "[1, 2, 3]\n",
      "2\n",
      "6\n",
      "9\n"
     ]
    }
   ],
   "source": [
    "#list inside List\n",
    "a = [[1,2,3],\n",
    "     [4,5,6],\n",
    "     [7,8,9]]\n",
    "print(a[0])\n",
    "print(a[0][1])\n",
    "print(a[1][2])\n",
    "print(a[2][2])"
   ]
  },
  {
   "cell_type": "code",
   "execution_count": 20,
   "id": "431b3a2c",
   "metadata": {},
   "outputs": [
    {
     "name": "stdout",
     "output_type": "stream",
     "text": [
      "[['Ram', 45, 'Kathmandu'], ['Shyam', 50, 'Lalitpur'], ['Hari', 89, 'Bhaktapur']]\n"
     ]
    }
   ],
   "source": [
    "a = [['Ram',45,'Kathmandu'],\n",
    "     ['Shyam',50,'Lalitpur'],\n",
    "     ['Hari',89,'Bhaktapur']]\n",
    "print(a)"
   ]
  },
  {
   "cell_type": "code",
   "execution_count": 21,
   "id": "26aa1037",
   "metadata": {},
   "outputs": [
    {
     "name": "stdout",
     "output_type": "stream",
     "text": [
      "Enter n = 2\n",
      "Enter name = Ram\n",
      "Enter age = 50\n",
      "Enter address = Kathmandu\n",
      "Enter name = Shyam\n",
      "Enter age = 30\n",
      "Enter address = Bhaktapur\n",
      "[['Ram', 50, 'Kathmandu'], ['Shyam', 30, 'Bhaktapur']]\n"
     ]
    }
   ],
   "source": [
    "a=[]\n",
    "n = int(input(\"Enter n = \"))\n",
    "for i in range(n):\n",
    "    name = input(\"Enter name = \")\n",
    "    age = int(input(\"Enter age = \"))\n",
    "    address = input(\"Enter address = \")\n",
    "    info = [name,age,address]\n",
    "    a.append(info)                   #a.append([name,age,address])\n",
    "print(a)"
   ]
  },
  {
   "cell_type": "code",
   "execution_count": 3,
   "id": "80894767",
   "metadata": {},
   "outputs": [
    {
     "name": "stdout",
     "output_type": "stream",
     "text": [
      "['Ram', 45, 'Kathmandu']\n",
      "Ram\n",
      "['Shyam', 50, 'Lalitpur']\n",
      "Shyam\n",
      "['Hari', 89, 'Bhaktapur']\n",
      "Hari\n",
      "['Ram', 20, 'Chitwan']\n",
      "Ram\n"
     ]
    }
   ],
   "source": [
    "a = [['Ram',45,'Kathmandu'],\n",
    "     ['Shyam',50,'Lalitpur'],\n",
    "     ['Hari',89,'Bhaktapur'],\n",
    "    ['Ram',20,'Chitwan']]\n",
    "for i in a:\n",
    "    print(i)\n",
    "    print(i[0])"
   ]
  },
  {
   "cell_type": "code",
   "execution_count": 4,
   "id": "a4a037b7",
   "metadata": {},
   "outputs": [
    {
     "name": "stdout",
     "output_type": "stream",
     "text": [
      "Enter name = Ram\n",
      "['Ram', 45, 'Kathmandu']\n",
      "['Ram', 20, 'Chitwan']\n"
     ]
    }
   ],
   "source": [
    "#Search\n",
    "a = [['Ram',45,'Kathmandu'],\n",
    "     ['Shyam',50,'Lalitpur'],\n",
    "     ['Hari',89,'Bhaktapur'],\n",
    "    ['Ram',20,'Chitwan']]\n",
    "\n",
    "name = input(\"Enter name = \")\n",
    "for i in a:\n",
    "    if i[0] == name:     #if the index is known\n",
    "        print(i)        "
   ]
  },
  {
   "cell_type": "code",
   "execution_count": 5,
   "id": "50c2c7a6",
   "metadata": {},
   "outputs": [
    {
     "name": "stdout",
     "output_type": "stream",
     "text": [
      "Enter name = Ram\n",
      "['Ram', 45, 'Kathmandu']\n",
      "['Ram', 20, 'Chitwan']\n"
     ]
    }
   ],
   "source": [
    "#Search\n",
    "a = [['Ram',45,'Kathmandu'],\n",
    "     ['Shyam',50,'Lalitpur'],\n",
    "     ['Hari',89,'Bhaktapur'],\n",
    "    ['Ram',20,'Chitwan']]\n",
    "\n",
    "name = input(\"Enter name = \")\n",
    "for i in a:\n",
    "    if name in i:     #Without index\n",
    "        print(i)        "
   ]
  },
  {
   "cell_type": "code",
   "execution_count": 13,
   "id": "7598db8f",
   "metadata": {},
   "outputs": [
    {
     "name": "stdout",
     "output_type": "stream",
     "text": [
      "Enter name = RaM\n",
      "['Ram', 45, 'Kathmandu']\n",
      "['Ram', 20, 'Chitwan']\n"
     ]
    }
   ],
   "source": [
    "#Case insensitive\n",
    "a = [['Ram',45,'Kathmandu'],\n",
    "     ['Shyam',50,'Lalitpur'],\n",
    "     ['Hari',89,'Bhaktapur'],\n",
    "    ['Ram',20,'Chitwan']]\n",
    "\n",
    "name = input(\"Enter name = \")\n",
    "b = name.lower()\n",
    "for i in a:\n",
    "    c = i[0].lower()\n",
    "    if c == b:                    #i[0].lower() = name.lower()\n",
    "        print(i)"
   ]
  },
  {
   "cell_type": "code",
   "execution_count": 18,
   "id": "f2069a1e",
   "metadata": {},
   "outputs": [
    {
     "data": {
      "text/plain": [
       "[['Ram', 45, 'Kathmandu'],\n",
       " ['Shyam', 50, 'Lalitpur'],\n",
       " ['Hari', 89, 'Bhaktapur'],\n",
       " ['Ram', 20, 'Chitwan'],\n",
       " ['Nabin', 34, 'Jhapa']]"
      ]
     },
     "execution_count": 18,
     "metadata": {},
     "output_type": "execute_result"
    }
   ],
   "source": [
    "a = [['Ram',45,'Kathmandu'],\n",
    "     ['Shyam',50,'Lalitpur'],\n",
    "     ['Hari',89,'Bhaktapur'],\n",
    "    ['Ram',20,'Chitwan']]\n",
    "a.append(['Nabin',34,\"Jhapa\"])\n",
    "a"
   ]
  },
  {
   "cell_type": "code",
   "execution_count": null,
   "id": "b1dbab6f",
   "metadata": {},
   "outputs": [],
   "source": [
    "a = [['Ram',45,'Kathmandu'],\n",
    "     ['Shyam',50,'Lalitpur'],\n",
    "     ['Hari',89,'Bhaktapur'],\n",
    "    ['Ram',20,'Chitwan']]\n",
    "c = 0\n",
    "name = input(\"Enter name = \")\n",
    "for i in a:\n",
    "    if i[0].lower() == name.lower():\n",
    "        print(i)\n",
    "        c = c + 1\n",
    "print(\"Total number of records =\",c)"
   ]
  },
  {
   "cell_type": "code",
   "execution_count": 2,
   "id": "3d9ff79a",
   "metadata": {},
   "outputs": [
    {
     "data": {
      "text/plain": [
       "[['Ram Prasad', 45, 'Kathmandu'],\n",
       " ['Shyam', 50, 'Lalitpur'],\n",
       " ['Hari', 89, 'Bhaktapur'],\n",
       " ['Ram', 20, 'Chitwan'],\n",
       " ['Nabin', 34, 'Jhapa']]"
      ]
     },
     "execution_count": 2,
     "metadata": {},
     "output_type": "execute_result"
    }
   ],
   "source": [
    "#UPDATE\n",
    "a = [['Ram', 45, 'Kathmandu'],\n",
    "     ['Shyam', 50, 'Lalitpur'],\n",
    "     ['Hari', 89, 'Bhaktapur'],\n",
    "     ['Ram', 20, 'Chitwan'],\n",
    "     ['Nabin', 34, 'Jhapa']]\n",
    "a[0][0] = \"Ram Prasad\"\n",
    "a"
   ]
  },
  {
   "cell_type": "code",
   "execution_count": 4,
   "id": "7d40d211",
   "metadata": {},
   "outputs": [
    {
     "data": {
      "text/plain": [
       "[['Shyam', 50, 'Lalitpur'],\n",
       " ['Hari', 89, 'Bhaktapur'],\n",
       " ['Ram', 20, 'Chitwan'],\n",
       " ['Nabin', 34, 'Jhapa']]"
      ]
     },
     "execution_count": 4,
     "metadata": {},
     "output_type": "execute_result"
    }
   ],
   "source": [
    "#Delete    \n",
    "a = [['Ram', 45, 'Kathmandu'],\n",
    "     ['Shyam', 50, 'Lalitpur'],\n",
    "     ['Hari', 89, 'Bhaktapur'],\n",
    "     ['Ram', 20, 'Chitwan'],\n",
    "     ['Nabin', 34, 'Jhapa']]\n",
    "del a[0]   \n",
    "a"
   ]
  },
  {
   "cell_type": "code",
   "execution_count": null,
   "id": "2dbbe221",
   "metadata": {},
   "outputs": [],
   "source": [
    "#WAP to create a matrix having no of rows and columns"
   ]
  }
 ],
 "metadata": {
  "kernelspec": {
   "display_name": "Python 3 (ipykernel)",
   "language": "python",
   "name": "python3"
  },
  "language_info": {
   "codemirror_mode": {
    "name": "ipython",
    "version": 3
   },
   "file_extension": ".py",
   "mimetype": "text/x-python",
   "name": "python",
   "nbconvert_exporter": "python",
   "pygments_lexer": "ipython3",
   "version": "3.10.9"
  }
 },
 "nbformat": 4,
 "nbformat_minor": 5
}
