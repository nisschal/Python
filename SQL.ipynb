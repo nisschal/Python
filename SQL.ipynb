{
 "cells": [
  {
   "cell_type": "code",
   "execution_count": 1,
   "id": "3d62e00a",
   "metadata": {},
   "outputs": [],
   "source": [
    "# import mysql.connector\n",
    "# database = mysql.connector.connect(\n",
    "#             host = \"localhost\"\n",
    "#             user = \"root\"\n",
    "#             password = \"\"\n",
    "# )\n",
    "\n",
    "# db = database.cursor()\n",
    "\n",
    "# #db.execute(\"Create DATABASE PYTHON\")"
   ]
  },
  {
   "cell_type": "code",
   "execution_count": 3,
   "id": "30f56977",
   "metadata": {},
   "outputs": [
    {
     "name": "stdout",
     "output_type": "stream",
     "text": [
      "Requirement already satisfied: mysql-connector in c:\\users\\user\\anaconda3\\lib\\site-packages (2.2.9)\n",
      "Note: you may need to restart the kernel to use updated packages.\n"
     ]
    }
   ],
   "source": [
    "pip install mysql-connector"
   ]
  },
  {
   "cell_type": "code",
   "execution_count": 8,
   "id": "bd840ef6",
   "metadata": {},
   "outputs": [],
   "source": [
    "import mysql.connector\n",
    "database = mysql.connector.connect(\n",
    "            host = \"localhost\",\n",
    "            user = \"root\",\n",
    "            password = \"\",\n",
    "            database = \"python\"     #DATABASE NAME\n",
    ")\n",
    "\n",
    "db = database.cursor()"
   ]
  },
  {
   "cell_type": "code",
   "execution_count": 4,
   "id": "04f0e98d",
   "metadata": {},
   "outputs": [
    {
     "name": "stdout",
     "output_type": "stream",
     "text": [
      "(1, 'Ram', 60, 60, 60, 60, 60, 300, 60.0, 'C')\n",
      "(2, 'Shyam', 65, 65, 65, 65, 65, 325, 65.0, 'C')\n"
     ]
    }
   ],
   "source": [
    "# select in database\n",
    "\n",
    "db.execute(\"SELECT * FROM student\")\n",
    "result = db.fetchall()\n",
    "for x in result:\n",
    "    print(x)"
   ]
  },
  {
   "cell_type": "code",
   "execution_count": 9,
   "id": "d28792e3",
   "metadata": {},
   "outputs": [
    {
     "name": "stdout",
     "output_type": "stream",
     "text": [
      "(3, 'Hari', 80, 80, 80, 80, 80, 400, 80.0, 'A')\n"
     ]
    }
   ],
   "source": [
    "# select in database\n",
    "\n",
    "db.execute(\"SELECT * FROM student WHERE Grade = 'A'\")\n",
    "result = db.fetchall()\n",
    "for x in result:\n",
    "    print(x)"
   ]
  },
  {
   "cell_type": "code",
   "execution_count": 11,
   "id": "bd3f39a2",
   "metadata": {},
   "outputs": [],
   "source": [
    "#INSERT IN DATABASE\n",
    "\n",
    "sql = '''Insert into student (Name, Physics, Chemistry, Math, English, Nepali, Total, Percentage, Grade)\n",
    "          VALUES('Sita','80','80','80','80','80','400','80','A'); '''\n",
    "\n",
    "db.execute(sql)\n",
    "database.commit()"
   ]
  },
  {
   "cell_type": "code",
   "execution_count": 12,
   "id": "d67ef645",
   "metadata": {},
   "outputs": [],
   "source": [
    "# WAP to entry all data in student table taking value as input form user"
   ]
  },
  {
   "cell_type": "code",
   "execution_count": null,
   "id": "dbdf9f31",
   "metadata": {},
   "outputs": [],
   "source": []
  }
 ],
 "metadata": {
  "kernelspec": {
   "display_name": "Python 3 (ipykernel)",
   "language": "python",
   "name": "python3"
  },
  "language_info": {
   "codemirror_mode": {
    "name": "ipython",
    "version": 3
   },
   "file_extension": ".py",
   "mimetype": "text/x-python",
   "name": "python",
   "nbconvert_exporter": "python",
   "pygments_lexer": "ipython3",
   "version": "3.10.9"
  }
 },
 "nbformat": 4,
 "nbformat_minor": 5
}
