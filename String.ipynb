{
 "cells": [
  {
   "cell_type": "code",
   "execution_count": 1,
   "id": "7826c05a",
   "metadata": {},
   "outputs": [
    {
     "name": "stdout",
     "output_type": "stream",
     "text": [
      "<class 'str'>\n",
      "<class 'str'>\n",
      "<class 'str'>\n"
     ]
    }
   ],
   "source": [
    "#immutable datatype\n",
    "a = \"Hellow World I am Python\"\n",
    "b = 'Hellow World I am Python'\n",
    "c = '''Hellow World I am Python'''\n",
    "print(type(a))\n",
    "print(type(b))\n",
    "print(type(c))"
   ]
  },
  {
   "cell_type": "code",
   "execution_count": 9,
   "id": "b3f9b045",
   "metadata": {},
   "outputs": [
    {
     "name": "stdout",
     "output_type": "stream",
     "text": [
      "Hello World\n",
      "Hello Hello \n"
     ]
    }
   ],
   "source": [
    "# + * \n",
    "a = \"Hello \"\n",
    "b = \"World\"\n",
    "c = a + b\n",
    "d = a *  2\n",
    "print(c)\n",
    "print(d)"
   ]
  },
  {
   "cell_type": "code",
   "execution_count": 10,
   "id": "6a75a871",
   "metadata": {},
   "outputs": [
    {
     "name": "stdout",
     "output_type": "stream",
     "text": [
      "P\n",
      "y\n",
      "t\n",
      "h\n",
      "o\n",
      "n\n"
     ]
    }
   ],
   "source": [
    "a = \"Python\"\n",
    "for i in a:\n",
    "    print(i)"
   ]
  },
  {
   "cell_type": "code",
   "execution_count": 18,
   "id": "4b368c83",
   "metadata": {},
   "outputs": [
    {
     "name": "stdout",
     "output_type": "stream",
     "text": [
      "H\n",
      "Hello Wo\n",
      "HloWrdIa y\n"
     ]
    }
   ],
   "source": [
    "a = \"Hello World I am Python\"\n",
    "print(a[0])\n",
    "print(a[0:8])   #String Slicing\n",
    "print(a[0:20:2])    # 0:20:2 Start with 0 till 20 increment by 2"
   ]
  },
  {
   "cell_type": "code",
   "execution_count": 21,
   "id": "d62890ff",
   "metadata": {},
   "outputs": [
    {
     "name": "stdout",
     "output_type": "stream",
     "text": [
      "n\n",
      "h\n",
      "nhy aId\n"
     ]
    }
   ],
   "source": [
    "a = \"Hello World I am Python\"\n",
    "print(a[-1])   #negative starts with right side of the string\n",
    "print(a[-3])\n",
    "print(a[-1:-15:-2])"
   ]
  },
  {
   "cell_type": "code",
   "execution_count": 22,
   "id": "fa997786",
   "metadata": {},
   "outputs": [
    {
     "name": "stdout",
     "output_type": "stream",
     "text": [
      "nohtyP\n"
     ]
    }
   ],
   "source": [
    "a = \"Python\"\n",
    "print(a[-1:-7:-1])"
   ]
  },
  {
   "cell_type": "code",
   "execution_count": 23,
   "id": "0d0baad1",
   "metadata": {},
   "outputs": [
    {
     "name": "stdout",
     "output_type": "stream",
     "text": [
      "nohtyP ma I dlroW olleH\n"
     ]
    }
   ],
   "source": [
    "a = \"Hello World I am Python\"\n",
    "print(a[::-1])"
   ]
  },
  {
   "cell_type": "code",
   "execution_count": 24,
   "id": "c5929fcf",
   "metadata": {},
   "outputs": [
    {
     "name": "stdout",
     "output_type": "stream",
     "text": [
      "434\n"
     ]
    }
   ],
   "source": [
    "a = \"434\"  #Use this for Palindrome\n",
    "print(a[::-1])"
   ]
  },
  {
   "cell_type": "code",
   "execution_count": 25,
   "id": "ece58e45",
   "metadata": {},
   "outputs": [
    {
     "name": "stdout",
     "output_type": "stream",
     "text": [
      "Hello\n"
     ]
    }
   ],
   "source": [
    "a = \"Hello World I am Python\"\n",
    "b = a[0:5]\n",
    "print(b)"
   ]
  },
  {
   "cell_type": "code",
   "execution_count": 35,
   "id": "42ee4735",
   "metadata": {},
   "outputs": [
    {
     "name": "stdout",
     "output_type": "stream",
     "text": [
      "23\n",
      "Hello World I am Python"
     ]
    }
   ],
   "source": [
    "a = \"Hello World I am Python\"\n",
    "l = len(a) #len() - count length\n",
    "print(l)\n",
    "for i in range(l):\n",
    "    print(a[i], end=\"\")"
   ]
  },
  {
   "cell_type": "code",
   "execution_count": 38,
   "id": "d7efbd94",
   "metadata": {},
   "outputs": [
    {
     "name": "stdout",
     "output_type": "stream",
     "text": [
      "Hello World I am Python"
     ]
    }
   ],
   "source": [
    "a = \"Hello World I am Python\"\n",
    "l = len(a)\n",
    "i = 0\n",
    "while i<l:\n",
    "    print(a[i], end=\"\")\n",
    "    i+=1"
   ]
  },
  {
   "cell_type": "code",
   "execution_count": 46,
   "id": "319fc64d",
   "metadata": {},
   "outputs": [
    {
     "name": "stdout",
     "output_type": "stream",
     "text": [
      "5\n",
      "11\n",
      "13\n",
      "16\n"
     ]
    }
   ],
   "source": [
    "a = \"Hello World I am Python\"\n",
    "l = len(a)\n",
    "#b = 0\n",
    "for i in range(l):\n",
    "    if a[i] == \" \":\n",
    "        print(i)\n",
    "        #b = b + 1\n",
    "#print(b)\n",
    "        "
   ]
  },
  {
   "cell_type": "code",
   "execution_count": 50,
   "id": "fd0b5fb2",
   "metadata": {},
   "outputs": [
    {
     "name": "stdout",
     "output_type": "stream",
     "text": [
      "Hello World I am Ram I am from KathmanduI am 78\n"
     ]
    }
   ],
   "source": [
    "#String Formatting\n",
    "name = \"Ram\"\n",
    "age = 78\n",
    "add = \"Kathmandu\"\n",
    "\n",
    "info = \"Hello World I am \" + name + \" I am from \" + add + \"I am \" + str(age)\n",
    "print(info)\n"
   ]
  },
  {
   "cell_type": "code",
   "execution_count": 52,
   "id": "c13d849d",
   "metadata": {},
   "outputs": [
    {
     "name": "stdout",
     "output_type": "stream",
     "text": [
      "Enter name = Ram\n",
      "Enter age = 54\n",
      "Enter address = Kathmandu\n",
      "Hello World I am Ram. I am from Kathmandu. I am 54.\n"
     ]
    }
   ],
   "source": [
    "#String Formatting       f\"<Text> {Variable}\"\n",
    "name = input(\"Enter name = \")\n",
    "age = int(input(\"Enter age = \"))\n",
    "add = input(\"Enter address = \")\n",
    "\n",
    "info = f\"Hello World I am {name}. I am from {add}. I am {age}.\"\n",
    "print(info)\n"
   ]
  },
  {
   "cell_type": "code",
   "execution_count": 54,
   "id": "fa3ac0be",
   "metadata": {},
   "outputs": [
    {
     "name": "stdout",
     "output_type": "stream",
     "text": [
      "Enter number of products: 2\n",
      "Enter the name of product: sas\n",
      "Enter quantity: 2\n",
      "Enter price of the product: 20\n",
      "Enter the name of product: asa\n",
      "Enter quantity: 2\n",
      "Enter price of the product: 20\n",
      "sas 2 20 40 \n",
      "asa 2 20 40 \n",
      "\n",
      "Total Amount = 80\n"
     ]
    }
   ],
   "source": [
    "# WAP to create a billing system (Product,price,quantity,total,all_total)\n",
    "n = int(input(\"Enter number of products: \"))\n",
    "all_total = 0\n",
    "bill = \"\"\n",
    "for i in range(n):\n",
    "    Product_Name = input(\"Enter the name of product: \")\n",
    "    Quantity = int(input(\"Enter quantity: \"))\n",
    "    Price = int(input(\"Enter price of the product: \"))\n",
    "    total = Price * Quantity\n",
    "    data = f\"{Product_Name} {Quantity} {Price} {total} \\n\"      #String Formatting\n",
    "    bill = bill + data\n",
    "    all_total = all_total + total\n",
    "print(bill)    \n",
    "print(\"Total Amount =\",all_total)"
   ]
  },
  {
   "cell_type": "markdown",
   "id": "95c1b347",
   "metadata": {},
   "source": [
    "# Search in String"
   ]
  },
  {
   "cell_type": "code",
   "execution_count": 61,
   "id": "b32a3940",
   "metadata": {},
   "outputs": [
    {
     "name": "stdout",
     "output_type": "stream",
     "text": [
      "Yes, there is.\n"
     ]
    }
   ],
   "source": [
    "a = \"Ram Shyam Hari Sita Gita Nabin\"\n",
    "if 'Ram' in a:\n",
    "    print(\"Yes, there is.\")\n",
    "else:\n",
    "    print(\"No\")"
   ]
  },
  {
   "cell_type": "code",
   "execution_count": 63,
   "id": "c2bbac3f",
   "metadata": {},
   "outputs": [
    {
     "name": "stdout",
     "output_type": "stream",
     "text": [
      "Enter name = Ram\n",
      "Yes, there is  Ram\n",
      "1\n"
     ]
    }
   ],
   "source": [
    "a = \"Ram Shyam Hari Gita Sita Nabin Ramesh\"\n",
    "name = input(\"Enter name = \")\n",
    "if name in a:\n",
    "    print(\"Yes, there is \",name)\n",
    "    print(a.count(name))\n",
    "else:\n",
    "    print(\"No\")"
   ]
  },
  {
   "cell_type": "code",
   "execution_count": 66,
   "id": "7b656800",
   "metadata": {},
   "outputs": [
    {
     "name": "stdout",
     "output_type": "stream",
     "text": [
      "RAM SHYAM HARI GITA SITA NABIN RAMESH\n",
      "ram shyam hari gita sita nabin ramesh\n"
     ]
    }
   ],
   "source": [
    "a = \"Ram Shyam Hari Gita Sita Nabin Ramesh\"\n",
    "print(a.upper())\n",
    "print(a.lower())"
   ]
  },
  {
   "cell_type": "code",
   "execution_count": 68,
   "id": "ab038260",
   "metadata": {},
   "outputs": [
    {
     "name": "stdout",
     "output_type": "stream",
     "text": [
      "Enter name = ram\n",
      "Yes, there is  ram\n",
      "2\n"
     ]
    }
   ],
   "source": [
    "a = \"Ram Shyam Hari Gita Sita Nabin Ramesh\".lower()\n",
    "name = input(\"Enter name = \").lower()\n",
    "if name in a:\n",
    "    print(\"Yes, there is \",name)\n",
    "    print(a.count(name))\n",
    "else:\n",
    "    print(\"No\")"
   ]
  },
  {
   "cell_type": "code",
   "execution_count": 78,
   "id": "0fcb6f46",
   "metadata": {},
   "outputs": [
    {
     "name": "stdout",
     "output_type": "stream",
     "text": [
      "Rama Shyam Hari Gita Sita Nabin Ramaesh\n"
     ]
    }
   ],
   "source": [
    "#replace()\n",
    "a = \"Ram Shyam Hari Gita Sita Nabin Ramesh\"\n",
    "print(a.replace(\"Ram\",\"Rama\"))"
   ]
  },
  {
   "cell_type": "code",
   "execution_count": 77,
   "id": "13f43b8a",
   "metadata": {},
   "outputs": [
    {
     "name": "stdout",
     "output_type": "stream",
     "text": [
      "Rem Shyam Hari Gita Sita Nabin Ramesh\n"
     ]
    }
   ],
   "source": [
    "a = \"Ram Shyam Hari Gita Sita Nabin Ramesh\"\n",
    "print(a.replace(\"Ram \",\"Rem \"))"
   ]
  },
  {
   "cell_type": "code",
   "execution_count": 76,
   "id": "10b19288",
   "metadata": {},
   "outputs": [
    {
     "name": "stdout",
     "output_type": "stream",
     "text": [
      "Ram  Hari Gita Sita Nabin Ramesh\n"
     ]
    }
   ],
   "source": [
    "a = \"Ram Shyam Hari Gita Sita Nabin Ramesh\"\n",
    "print(a.replace(\"Shyam\",\"\"))"
   ]
  },
  {
   "cell_type": "code",
   "execution_count": 84,
   "id": "1a05f006",
   "metadata": {},
   "outputs": [
    {
     "data": {
      "text/plain": [
       "'Ram Shyam Hari Gita Sita Nabin Ramesh'"
      ]
     },
     "execution_count": 84,
     "metadata": {},
     "output_type": "execute_result"
    }
   ],
   "source": [
    "# isupper() islower() title()\n",
    "a = \"Ram Shyam Hari Gita Sita Nabin Ramesh\"\n",
    "a.title()"
   ]
  },
  {
   "cell_type": "code",
   "execution_count": null,
   "id": "62859094",
   "metadata": {},
   "outputs": [],
   "source": []
  }
 ],
 "metadata": {
  "kernelspec": {
   "display_name": "Python 3 (ipykernel)",
   "language": "python",
   "name": "python3"
  },
  "language_info": {
   "codemirror_mode": {
    "name": "ipython",
    "version": 3
   },
   "file_extension": ".py",
   "mimetype": "text/x-python",
   "name": "python",
   "nbconvert_exporter": "python",
   "pygments_lexer": "ipython3",
   "version": "3.10.9"
  }
 },
 "nbformat": 4,
 "nbformat_minor": 5
}
